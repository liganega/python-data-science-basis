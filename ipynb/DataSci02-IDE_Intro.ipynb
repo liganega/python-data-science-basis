{
 "cells": [
  {
   "cell_type": "markdown",
   "metadata": {},
   "source": [
    "# 데이터과학 개발환경"
   ]
  },
  {
   "cell_type": "markdown",
   "metadata": {},
   "source": [
    "## 온라인 개발환경 (입문자용)"
   ]
  },
  {
   "cell_type": "markdown",
   "metadata": {},
   "source": [
    "개인 노트북 또는 PC에 데이터과학 개발환경을 개설하는 일이 입문자에게는 조금 어려울 수 있다.\n",
    "하지만 온라인 상에서 계정만 있으면 무료로 파이썬 개발환경을 이용할 수 있는 사이트가 많이 있다.\n",
    "여기서는 두 곳을 소개한다.\n",
    "\n",
    "* [레플릿(repl.it)](https://repl.it/)\n",
    "* [구글 콜랩(google colab)](https://colab.research.google.com/)"
   ]
  },
  {
   "cell_type": "markdown",
   "metadata": {},
   "source": [
    "### 레플릿(repl.it)\n",
    "\n",
    "* 온라인 통합개발환경(IDE, Integrated Development Environment)\n",
    "    * repl은 읽기-실행-출력-반복(read-eval-print-loop) 표현의 약어이며, \n",
    "    셸(shell) 창에서 파이썬 인터프리터를 대화식으로 사용할 때 제공되는 개발환경을 의미한다.\n",
    "* 파이썬 이외에 많이 사용되는 거의 모든 프로그래밍 언어의 IDE를 제공한다.\n",
    "* 파이썬의 경우 데이터과학에 필요한 거의 모든 패키지를 모두 자동으로 제공한다. "
   ]
  },
  {
   "cell_type": "markdown",
   "metadata": {},
   "source": [
    "<p>\n",
    "<table cellspacing=\"20\">\n",
    "<tr>\n",
    "<td>\n",
    "<img src=\"../images/replit.png\">\n",
    "</td>\n",
    "</tr>\n",
    "</table>\n",
    "</p>"
   ]
  },
  {
   "cell_type": "markdown",
   "metadata": {},
   "source": [
    "#### 레플릿 기본 사용법\n",
    "\n",
    "* 참조: [레플릿 시작가이드](https://repl.it/site/docs/misc/quick-start)\n",
    "    * 영문 사이트임.\n",
    "    * [구글 크롬 브라우저](https://www.google.com/intl/ko/chrome/)에 \n",
    "        [Google Translate 확장자](https://chrome.google.com/webstore/detail/google-translate/aapbdbdomjkkjkaonfhkkikfgjllcleb?hl=en) \n",
    "        설치한 후 번역하면 꽤 읽을만 함."
   ]
  },
  {
   "cell_type": "markdown",
   "metadata": {},
   "source": [
    "### 구글 콜랩(Google colab)\n",
    "\n",
    "* 주피터 노트북(Jupyter notebook)을 이용하여 파이썬 데이터과학 개발환경 제공\n",
    "* tensorflow 등 데이터과학 전문 라이브러리를 설치 필요없이 바로 사용 가능\n",
    "* 주피터 노트북 활용법을 익혀두면 좋음"
   ]
  },
  {
   "cell_type": "markdown",
   "metadata": {},
   "source": [
    "<p>\n",
    "<table cellspacing=\"20\">\n",
    "<tr>\n",
    "<td>\n",
    "<img src=\"../images/jupyterNotebook.png\">\n",
    "</td>\n",
    "</tr>\n",
    "</table>\n",
    "</p>"
   ]
  },
  {
   "cell_type": "markdown",
   "metadata": {},
   "source": [
    "#### 구글 콜랩 기본 사용법\n",
    "\n",
    "* 참조: [Google Colab 사용법 동영상](https://www.youtube.com/watch?v=Fx-OtT7Hu0g)"
   ]
  },
  {
   "cell_type": "markdown",
   "metadata": {},
   "source": [
    "#### 주피터 노트북 기본 사용법\n",
    "\n",
    "* 참조: [주피터 노트북 사용법 동영상](https://www.youtube.com/watch?v=jmk-3G8FYII) (0:33 부분부터 볼 것)"
   ]
  },
  {
   "cell_type": "markdown",
   "metadata": {},
   "source": [
    "## 오프라인 개발환경 (숙련자용)"
   ]
  },
  {
   "cell_type": "markdown",
   "metadata": {},
   "source": [
    "아나콘다(Anaconda)와 파이참(PyCharm)을 이용하여 데이터과학 개발환경을 \n",
    "준비하는 것을 소개한다. \n",
    "이 외에 다른 방식이 다양하게 있지만 가장 편리한 방법으로 간주되는 방식 중 하나이다. "
   ]
  },
  {
   "cell_type": "markdown",
   "metadata": {},
   "source": [
    "### 아나콘다(Anaconda)"
   ]
  },
  {
   "cell_type": "markdown",
   "metadata": {},
   "source": [
    "* 파이썬 프로그래밍 언어 배포판 중의 하나\n",
    "* 파이썬뿐만 아니라 R 언어도 제공.\n",
    "* 파이썬 언어의 패키지 관리와 개발을 효율적으로 진행하도록 도와줌.\n",
    "* 파이썬 기본 패키지와 함께 데이터과학 필수 패키지 기본 제공\n",
    "    * numpy, pandas, matplotlip 등\n",
    "* 머신러닝, 딥러닝 개발용 패키지 추가 용이\n",
    "    * tensorflow, keras, scikit-learn, theano 등\n",
    "* 패키지 관리자 제공\n",
    "    * conda 패키지 관리자를 이용하여 거의 모든 파이썬 패키지 설치/관리 가능"
   ]
  },
  {
   "cell_type": "markdown",
   "metadata": {},
   "source": [
    "#### 아나콘다 설치\n",
    "\n",
    "* 다운로드: https://www.anaconda.com/download/\n",
    "* 설치: [여기](https://one-way-people.tistory.com/2) 참조"
   ]
  },
  {
   "cell_type": "markdown",
   "metadata": {},
   "source": [
    "### 파이참(PyCharm)"
   ]
  },
  {
   "cell_type": "markdown",
   "metadata": {},
   "source": [
    "* 파이썬 프로그래밍을 위한 통합개발환경(IDE)\n",
    "* 코드분석, 그래픽 디버거, 단위테스트, 버전컨트롤 등 지원\n",
    "* 상용인 프로페셔널 에디션(professional edition)과 무료인 커뮤너티 에디션(community edition) 제공.\n",
    "    * 공부를 위해서는 커뮤너티 에디션도 충분.\n",
    "    * 프로페셔널 에디션은 원격 개발환경 제공 등 보다 다양한 기능 제공\n",
    "    * 대학 등 교육기관 관계자는 무료로 프로페셔널 에디션을 무료로 사용할 수 있음.\n",
    "        * 교육기관 제공 이메일 주소 필요\n",
    "        * 참조: https://www.jetbrains.com/student/"
   ]
  },
  {
   "cell_type": "markdown",
   "metadata": {},
   "source": [
    "#### 파이참 설치 및 기본 사용법\n",
    "\n",
    "* 다운로드: [파이참 다운로드](https://www.jetbrains.com/pycharm/download)\n",
    "* 설치: [여기](https://one-way-people.tistory.com/2) 하단 참조\n",
    "* 기본 사용법\n",
    "    * 참조: [파이참 개발환경 설치 및 사용법 입문자용 동영상](https://www.youtube.com/watch?v=Cq9wptO8InQ)\n",
    "    * 추가 입문자용 동영상 제작 준비중\n",
    "\n",
    "\n",
    "* *사용법 동영상 보기 전에 알아두어야 할 사항*\n",
    "    * 프로젝트(projects)\n",
    "        * 특정 프로그램 및 앱을 구현하는 과제를 *프로젝트*라고 부름\n",
    "        * 프로그램, 앱 등은 일반적으로 한 개 이상의 코드 파일로 구성됨\n",
    "        * 또한 프로젝트 진행을 위한 개발환경이 독립적으로 필요함.\n",
    "            * 사용하는 프로그래밍 언어\n",
    "            * 프로그래밍 언어 버전 (동일한 언어의 경우에도 프로젝트별로 다른 버전 사용 가능)\n",
    "            * 소스코드 버전 관리 등등\n",
    "        * 따라서 소스코드 및 개발환경을 하나로 모아 둔 폴더와 비슷한 개념을 프로젝트라 부름.\n",
    "    * 프로젝트 인터프리터(project interpreter)\n",
    "        * 파이썬을 사용하는 프로젝트 별로 사용되는 파이썬 버전이 다를 수 있음.\n",
    "        * 따라서 프로젝트 별로 파이썬 버전을 지정해야 함.\n",
    "        * 파이썬 버전은 인터프리터 버전에 의해 정해짐.\n",
    "        * 하나의 컴퓨터에 여러 버전 설치가 가능하며, 파이참이 인터프리터 버전 관리도 도와줌."
   ]
  },
  {
   "cell_type": "markdown",
   "metadata": {},
   "source": [
    "### 기타 오프라인 개발환경\n",
    "\n",
    "* 파이썬 설치: 기본 + 추가 패키지 설치 (pip 패키지 매니저 활용)\n",
    "* 편집기\n",
    "    * Visual Studio Code\n",
    "    * Atom\n",
    "    * Vim\n",
    "    * Emacs 등등\n",
    "* 개발환경 준비과정에서 플러그인, 버전호환 등과 관련하여 \n",
    "    다양한 문제가 발생할 수 있어서 초보자에게는 어려운 접근법임"
   ]
  }
 ],
 "metadata": {
  "kernelspec": {
   "display_name": "Python 3",
   "language": "python",
   "name": "python3"
  },
  "language_info": {
   "codemirror_mode": {
    "name": "ipython",
    "version": 3
   },
   "file_extension": ".py",
   "mimetype": "text/x-python",
   "name": "python",
   "nbconvert_exporter": "python",
   "pygments_lexer": "ipython3",
   "version": "3.6.8"
  }
 },
 "nbformat": 4,
 "nbformat_minor": 2
}
