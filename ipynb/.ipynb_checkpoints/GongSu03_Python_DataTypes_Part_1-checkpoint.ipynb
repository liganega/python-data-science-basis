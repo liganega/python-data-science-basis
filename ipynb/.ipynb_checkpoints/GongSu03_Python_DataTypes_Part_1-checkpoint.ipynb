{
 "cells": [
  {
   "cell_type": "markdown",
   "metadata": {},
   "source": [
    "# 파이썬 기본 자료형 1부"
   ]
  },
  {
   "cell_type": "markdown",
   "metadata": {},
   "source": [
    "파이썬 언어에서 사용되는 값(values)들의 기본 자료형(data types)을 살펴본다.\n",
    "**값**은 컴퓨터 프로그램이 생성, 저장, 조작할 수 있는 대상을 의미한다.\n",
    "\n",
    "변수에 할당될 수 있는 가장 단순한 자료형에는 네 종류가 있다:\n",
    "\n",
    "* 정수 자료형(`int`): 정수\n",
    "    * ..., `-3`, `-2`, `-1`, `0`, `1`, `2`, `3`, 등등\n",
    "    * `1 + 2`, `-2 * 3`, 등등\n",
    "\n",
    "\n",
    "* 부동소수점 자료형(`float`): 실수\n",
    "    * `1.2`, `0.333333`, `-1.2`, `-3.7680`, 등등 \n",
    "    * `2.0/3.5`, `3.555 + 3.4 * 7.9`, 등등\n",
    "\n",
    "\n",
    "* 불리언 자료형(`bool`): 참(`True`)과 거짓(`False`)의 두 값으로 계산될 수 있는 값 \n",
    "    또는 표현식(expressions)\n",
    "    * 예: `1 == 1`, `2 < 3`, `1 + 1 > 3 and 2 < 3`, 등등\n",
    "\n",
    "\n",
    "* 문자열 자료형(`str`): \n",
    "    * `'a'`, `'abc'`, `'engineering'`, ... 등등\n",
    "    * `'abc' * 2`, `'engineering' + 'math'`, 등등"
   ]
  },
  {
   "cell_type": "markdown",
   "metadata": {},
   "source": [
    "## 1부 주요 내용\n",
    "\n",
    "* 파이썬 명령어 사용법 기초\n",
    "* 변수 선언 및 할당\n",
    "* 정수, 부동소수점, 불리언 자료형 소개\n",
    "* 문자열 자료형은 2부에서 다룸.\n",
    "* 특정 자료형과 관련하여 자주 사용되는 함수와 메소드 살펴보기 "
   ]
  },
  {
   "cell_type": "markdown",
   "metadata": {},
   "source": [
    "**주의:** \n",
    "\n",
    "* \"함수\"에 대해서는 나중에 자세히 다룬다.\n",
    "* 여기서는 일반적으로 알고 있는 수학 함수를 생각하면 된다."
   ]
  },
  {
   "cell_type": "markdown",
   "metadata": {},
   "source": [
    "## 파이썬 명령어 사용법 기초"
   ]
  },
  {
   "cell_type": "markdown",
   "metadata": {},
   "source": [
    "다양한 IDE에서 파이썬 명령어를 직접 실행할 수 있는 터미널 환경 제공 하며,\n",
    "명령 프롬프트(prompt)는 보통 아래의 모양을 갖는다.\n",
    "\n",
    "> `>>>`\n",
    "\n",
    "또는\n",
    "\n",
    "> `In [1]:`"
   ]
  },
  {
   "cell_type": "markdown",
   "metadata": {},
   "source": [
    "**스크립트 언어 특징**\n",
    "\n",
    "파이썬은 소위 \"스크립트 언어\"라고 불린다.\n",
    "즉, 코드를 작성한 후에 바로 실행시킬 수 있다. \n",
    "반면에 C와 Java 등의 언어는 코드를 작성한 후에 컴파일 과정을 거쳐서 생성된\n",
    "목적코드(object code)를 실행해야 한다. "
   ]
  },
  {
   "cell_type": "markdown",
   "metadata": {},
   "source": [
    "예를 들어, `print` 함수를 이용하여 터미널 화면에 문자열 값을 보여주고 싶다면 단순히 아래와 같이 코드를 작성하고 실행하면 된다. "
   ]
  },
  {
   "cell_type": "code",
   "execution_count": 1,
   "metadata": {},
   "outputs": [
    {
     "name": "stdout",
     "output_type": "stream",
     "text": [
      "Hello World\n"
     ]
    }
   ],
   "source": [
    "print(\"Hello World\")"
   ]
  },
  {
   "cell_type": "markdown",
   "metadata": {},
   "source": [
    "**주의:** \n",
    "\n",
    "* `print`는 지정된 값(들)을 터미널에서 사용자에게 보여줄 때 사용하는 함수이다. \n",
    "* 보통 \"출력하다\", \"화면에 보여주다\", \"인쇄하다\" 등으로 번역한다. "
   ]
  },
  {
   "cell_type": "markdown",
   "metadata": {},
   "source": [
    "또한 변수를 선언하고 값을 바로 확인할 수 있다."
   ]
  },
  {
   "cell_type": "code",
   "execution_count": 2,
   "metadata": {},
   "outputs": [
    {
     "data": {
      "text/plain": [
       "2"
      ]
     },
     "execution_count": 2,
     "metadata": {},
     "output_type": "execute_result"
    }
   ],
   "source": [
    "a = 1 + 1\n",
    "a"
   ]
  },
  {
   "cell_type": "markdown",
   "metadata": {},
   "source": [
    "파이썬을 계산기처럼 활용할 수도 있다."
   ]
  },
  {
   "cell_type": "code",
   "execution_count": 3,
   "metadata": {},
   "outputs": [
    {
     "data": {
      "text/plain": [
       "5"
      ]
     },
     "execution_count": 3,
     "metadata": {},
     "output_type": "execute_result"
    }
   ],
   "source": [
    "2 + 3"
   ]
  },
  {
   "cell_type": "code",
   "execution_count": 4,
   "metadata": {},
   "outputs": [
    {
     "data": {
      "text/plain": [
       "6"
      ]
     },
     "execution_count": 4,
     "metadata": {},
     "output_type": "execute_result"
    }
   ],
   "source": [
    "a = 2 + 3\n",
    "a + 1"
   ]
  },
  {
   "cell_type": "code",
   "execution_count": 5,
   "metadata": {},
   "outputs": [
    {
     "data": {
      "text/plain": [
       "26.7"
      ]
     },
     "execution_count": 5,
     "metadata": {},
     "output_type": "execute_result"
    }
   ],
   "source": [
    "42 - 15.3"
   ]
  },
  {
   "cell_type": "code",
   "execution_count": 6,
   "metadata": {},
   "outputs": [
    {
     "data": {
      "text/plain": [
       "1100"
      ]
     },
     "execution_count": 6,
     "metadata": {},
     "output_type": "execute_result"
    }
   ],
   "source": [
    "100 * 11"
   ]
  },
  {
   "cell_type": "code",
   "execution_count": 7,
   "metadata": {},
   "outputs": [
    {
     "data": {
      "text/plain": [
       "1.4"
      ]
     },
     "execution_count": 7,
     "metadata": {},
     "output_type": "execute_result"
    }
   ],
   "source": [
    "7 / 5"
   ]
  },
  {
   "cell_type": "code",
   "execution_count": 8,
   "metadata": {},
   "outputs": [
    {
     "data": {
      "text/plain": [
       "-1.4"
      ]
     },
     "execution_count": 8,
     "metadata": {},
     "output_type": "execute_result"
    }
   ],
   "source": [
    "-7/5"
   ]
  },
  {
   "cell_type": "code",
   "execution_count": 9,
   "metadata": {},
   "outputs": [
    {
     "data": {
      "text/plain": [
       "1.4"
      ]
     },
     "execution_count": 9,
     "metadata": {},
     "output_type": "execute_result"
    }
   ],
   "source": [
    "7.0 / 5"
   ]
  },
  {
   "cell_type": "markdown",
   "metadata": {},
   "source": [
    "몫을 계산하는 연산자는 `//` 이다."
   ]
  },
  {
   "cell_type": "code",
   "execution_count": 10,
   "metadata": {},
   "outputs": [
    {
     "data": {
      "text/plain": [
       "1"
      ]
     },
     "execution_count": 10,
     "metadata": {},
     "output_type": "execute_result"
    }
   ],
   "source": [
    "7//5"
   ]
  },
  {
   "cell_type": "code",
   "execution_count": 11,
   "metadata": {},
   "outputs": [
    {
     "data": {
      "text/plain": [
       "1.0"
      ]
     },
     "execution_count": 11,
     "metadata": {},
     "output_type": "execute_result"
    }
   ],
   "source": [
    "7.0//5"
   ]
  },
  {
   "cell_type": "code",
   "execution_count": 12,
   "metadata": {},
   "outputs": [
    {
     "data": {
      "text/plain": [
       "-2"
      ]
     },
     "execution_count": 12,
     "metadata": {},
     "output_type": "execute_result"
    }
   ],
   "source": [
    "-7//5"
   ]
  },
  {
   "cell_type": "code",
   "execution_count": 13,
   "metadata": {},
   "outputs": [
    {
     "data": {
      "text/plain": [
       "-2.0"
      ]
     },
     "execution_count": 13,
     "metadata": {},
     "output_type": "execute_result"
    }
   ],
   "source": [
    "-7.0//5"
   ]
  },
  {
   "cell_type": "markdown",
   "metadata": {},
   "source": [
    "나머지를 계산하는 연산자는 `%` 이다."
   ]
  },
  {
   "cell_type": "code",
   "execution_count": 14,
   "metadata": {},
   "outputs": [
    {
     "data": {
      "text/plain": [
       "2"
      ]
     },
     "execution_count": 14,
     "metadata": {},
     "output_type": "execute_result"
    }
   ],
   "source": [
    "7%5"
   ]
  },
  {
   "cell_type": "code",
   "execution_count": 15,
   "metadata": {},
   "outputs": [
    {
     "data": {
      "text/plain": [
       "3"
      ]
     },
     "execution_count": 15,
     "metadata": {},
     "output_type": "execute_result"
    }
   ],
   "source": [
    "-7%5"
   ]
  },
  {
   "cell_type": "code",
   "execution_count": 16,
   "metadata": {},
   "outputs": [
    {
     "data": {
      "text/plain": [
       "3.0"
      ]
     },
     "execution_count": 16,
     "metadata": {},
     "output_type": "execute_result"
    }
   ],
   "source": [
    "-7.0%5"
   ]
  },
  {
   "cell_type": "markdown",
   "metadata": {},
   "source": [
    "지수 계산: 예를 들어, 2의 3승을 계산하고자 할 때 사용한다."
   ]
  },
  {
   "cell_type": "code",
   "execution_count": 17,
   "metadata": {},
   "outputs": [
    {
     "data": {
      "text/plain": [
       "8"
      ]
     },
     "execution_count": 17,
     "metadata": {},
     "output_type": "execute_result"
    }
   ],
   "source": [
    "2 ** 3"
   ]
  },
  {
   "cell_type": "code",
   "execution_count": 18,
   "metadata": {},
   "outputs": [
    {
     "data": {
      "text/plain": [
       "3.0"
      ]
     },
     "execution_count": 18,
     "metadata": {},
     "output_type": "execute_result"
    }
   ],
   "source": [
    "9 ** 0.5"
   ]
  },
  {
   "cell_type": "markdown",
   "metadata": {},
   "source": [
    "## 변수\n",
    "\n",
    "컴퓨터 프로그램은 데이터를 이용하여 원하는 결과를 생성하도록 작성되며,\n",
    "보통 다음과 같은 일들을 처리하기 위한 명령문들의 나열로 생각할 수 있다.\n",
    "* 데이터 읽기\n",
    "* 데이터 생성하기\n",
    "* 데이터 저장하기\n",
    "* 데이터 계산하기\n",
    "* 데이터 조작하기\n",
    "\n",
    "데이터를 조작하기 위해서는 해당 데이터를 저장하거나 불러올 수 있어야 하는데,\n",
    "이를 위해 변수를 활용한다. \n",
    "변수를 일종의 그릇에 비유할 수 있으며, \n",
    "변수에 할당된(저장된) 데이터는 그릇에 담겨진 내용물에 해당한다. \n",
    "\n",
    "파이썬에서 변수의 이름을 지으려면 기본적으로 세 가지 규칙을 따라야 한다.\n",
    "\n",
    "* 반드시 영어 알파벳 문자(`a-z,A-Z`) 또는 밑줄기호(`_`)로 시작해야 하며, 이후에는 알파벳, 숫자(`0-9`), 밑줄기호가 임의로 사용될 수 있다.\n",
    "\n",
    "* 파이썬 예약어(def, from, import 등)를 변수 이름으로 사용하면 안된다. \n",
    "\n",
    "* 대소문자를 구분해야 한다: 'YOU', 'you', 'You', 'yOu'는 모두 다른 이름으로 처리된다. \n",
    "\n",
    "* '-', '+', '*','/' 등의 연산자 기호는 이름에 사용될 수 없다. \n",
    "\n",
    "* '@', '$', '?' 등의 기호도 사용되지 않는다. "
   ]
  },
  {
   "cell_type": "markdown",
   "metadata": {},
   "source": [
    "### 변수선언"
   ]
  },
  {
   "cell_type": "markdown",
   "metadata": {},
   "source": [
    "변수에 특정 값을 할당하는 것을 변수 선언이라 부른다. \n",
    "변수 선언은 아래 모양을 갖춘다.\n",
    "\n",
    "    변수이름 = 값\n",
    "    \n",
    "예를 들어 아래에서 `a_number`라는 변수이름에 정수 2가 할당되었고, `a_word` 변수에는 `'dog'`라는 문자열이 할당되었다.   "
   ]
  },
  {
   "cell_type": "markdown",
   "metadata": {},
   "source": [
    "주의:\n",
    "\n",
    "* 변수를 생성하고자 할 때 값을 초기화하면 된다. 즉, 변수를 미리 선언할 필요가 없다. C와 Java와의 주요 차이점 중의 하나이다.\n",
    "\n",
    "* 자료형을 선언할 필요가 없다. 변수의 자료형을 파이썬이 알아서 판단한다. 이를 동적 타이핑(dynamic typing)이라 한다. "
   ]
  },
  {
   "cell_type": "code",
   "execution_count": 19,
   "metadata": {},
   "outputs": [],
   "source": [
    "a_number = 2\n",
    "a_word = 'dog'"
   ]
  },
  {
   "cell_type": "markdown",
   "metadata": {},
   "source": [
    "**주의:**\n",
    "\n",
    "C 언어의 경우 변수선언은 좀 더 복잡하다.\n",
    "\n",
    "```C\n",
    "int a_number = 2 \n",
    "char a_word[] = 'dog'\n",
    "```"
   ]
  },
  {
   "cell_type": "markdown",
   "metadata": {},
   "source": [
    "변수에 할당된 값을 확인하기 위해 `print()` 함수를 이용한다."
   ]
  },
  {
   "cell_type": "code",
   "execution_count": 20,
   "metadata": {},
   "outputs": [
    {
     "name": "stdout",
     "output_type": "stream",
     "text": [
      "2\n"
     ]
    }
   ],
   "source": [
    "print(a_number)"
   ]
  },
  {
   "cell_type": "code",
   "execution_count": 21,
   "metadata": {},
   "outputs": [
    {
     "name": "stdout",
     "output_type": "stream",
     "text": [
      "dog\n"
     ]
    }
   ],
   "source": [
    "print(a_word)"
   ]
  },
  {
   "cell_type": "markdown",
   "metadata": {},
   "source": [
    "변수에 할당된 값의 자료형을 확인하려면 `type()` 함수를 호출한다."
   ]
  },
  {
   "cell_type": "code",
   "execution_count": 22,
   "metadata": {},
   "outputs": [
    {
     "data": {
      "text/plain": [
       "int"
      ]
     },
     "execution_count": 22,
     "metadata": {},
     "output_type": "execute_result"
    }
   ],
   "source": [
    "type(a_number)"
   ]
  },
  {
   "cell_type": "code",
   "execution_count": 23,
   "metadata": {},
   "outputs": [
    {
     "data": {
      "text/plain": [
       "str"
      ]
     },
     "execution_count": 23,
     "metadata": {},
     "output_type": "execute_result"
    }
   ],
   "source": [
    "type(a_word)"
   ]
  },
  {
   "cell_type": "markdown",
   "metadata": {},
   "source": [
    "선언된 변수를 이용하여 연산을 할 수도 있다."
   ]
  },
  {
   "cell_type": "code",
   "execution_count": 24,
   "metadata": {},
   "outputs": [
    {
     "data": {
      "text/plain": [
       "9"
      ]
     },
     "execution_count": 24,
     "metadata": {},
     "output_type": "execute_result"
    }
   ],
   "source": [
    "a_number + 7"
   ]
  },
  {
   "cell_type": "code",
   "execution_count": 25,
   "metadata": {},
   "outputs": [
    {
     "data": {
      "text/plain": [
       "2.4"
      ]
     },
     "execution_count": 25,
     "metadata": {},
     "output_type": "execute_result"
    }
   ],
   "source": [
    "(a_number * 6.0) / 5"
   ]
  },
  {
   "cell_type": "markdown",
   "metadata": {},
   "source": [
    "연산의 결과를 변수에 할당할 수 있다. 해당 변수에는 연산의 결과만을 기억한다. "
   ]
  },
  {
   "cell_type": "code",
   "execution_count": 26,
   "metadata": {},
   "outputs": [
    {
     "data": {
      "text/plain": [
       "2.2857142857142856"
      ]
     },
     "execution_count": 26,
     "metadata": {},
     "output_type": "execute_result"
    }
   ],
   "source": [
    "first_result = 8 / 3.5\n",
    "first_result"
   ]
  },
  {
   "cell_type": "markdown",
   "metadata": {},
   "source": [
    "계산된 결과의 자료형도 `type()` 함수를 이용하여 확인할 수 있다."
   ]
  },
  {
   "cell_type": "code",
   "execution_count": 27,
   "metadata": {},
   "outputs": [
    {
     "data": {
      "text/plain": [
       "float"
      ]
     },
     "execution_count": 27,
     "metadata": {},
     "output_type": "execute_result"
    }
   ],
   "source": [
    "type(first_result)"
   ]
  },
  {
   "cell_type": "markdown",
   "metadata": {},
   "source": [
    "문자열의 경우 덧셈과 곱셈 연산자를 사용할 수 있다.\n",
    "다만 자료형에 따라 다른 방식으로 연산자가 작동함에 주의해야 한다."
   ]
  },
  {
   "cell_type": "code",
   "execution_count": 28,
   "metadata": {},
   "outputs": [
    {
     "data": {
      "text/plain": [
       "'Bull dog'"
      ]
     },
     "execution_count": 28,
     "metadata": {},
     "output_type": "execute_result"
    }
   ],
   "source": [
    "\"Bull \" + a_word"
   ]
  },
  {
   "cell_type": "code",
   "execution_count": 29,
   "metadata": {},
   "outputs": [
    {
     "data": {
      "text/plain": [
       "'dogdog'"
      ]
     },
     "execution_count": 29,
     "metadata": {},
     "output_type": "execute_result"
    }
   ],
   "source": [
    "a_word * 2"
   ]
  },
  {
   "cell_type": "markdown",
   "metadata": {},
   "source": [
    "**주의:**\n",
    "\n",
    "변수에 할당된 값의 자료형에 따라 연산의 가능여부가 결정된다. \n",
    "예를 들어, 숫자의 문자열의 합은 정의되어 있지 않으며, 실행할 경우 오류가 발생한다."
   ]
  },
  {
   "cell_type": "code",
   "execution_count": 30,
   "metadata": {},
   "outputs": [
    {
     "ename": "TypeError",
     "evalue": "unsupported operand type(s) for +: 'int' and 'str'",
     "output_type": "error",
     "traceback": [
      "\u001b[0;31m---------------------------------------------------------------------------\u001b[0m",
      "\u001b[0;31mTypeError\u001b[0m                                 Traceback (most recent call last)",
      "\u001b[0;32m<ipython-input-30-292a1c30f27e>\u001b[0m in \u001b[0;36m<module>\u001b[0;34m\u001b[0m\n\u001b[0;32m----> 1\u001b[0;31m \u001b[0ma_number\u001b[0m \u001b[0;34m+\u001b[0m \u001b[0ma_word\u001b[0m\u001b[0;34m\u001b[0m\u001b[0;34m\u001b[0m\u001b[0m\n\u001b[0m",
      "\u001b[0;31mTypeError\u001b[0m: unsupported operand type(s) for +: 'int' and 'str'"
     ]
    }
   ],
   "source": [
    "a_number + a_word"
   ]
  },
  {
   "cell_type": "markdown",
   "metadata": {},
   "source": [
    "주의: 오류 내용을 초보자가 이해하기는 어렵다. 여기서는 자료형이 맞지 않아 오류가 발생할 경우에 `TypeError`(자료형 오류)가 발생한다는 사실만을 기억해 두면 좋다. "
   ]
  },
  {
   "cell_type": "markdown",
   "metadata": {},
   "source": [
    "변수에 할당된 값은 변경이 가능하다. 원래 할당된 값을 변경할 수 있다는 의미에서 변수라 부른다. 반면에 변수가 아닌 숫자를 상수라 부른다. 프로그래밍언어에 따라 상수를 정하는 방식이 조금씩 다르다. 여기서는 상수는 다루지 않는다."
   ]
  },
  {
   "cell_type": "code",
   "execution_count": 31,
   "metadata": {},
   "outputs": [
    {
     "name": "stdout",
     "output_type": "stream",
     "text": [
      "2\n",
      "5\n"
     ]
    }
   ],
   "source": [
    "print(a_number)\n",
    "a_number = 5\n",
    "\n",
    "print(a_number)"
   ]
  },
  {
   "cell_type": "markdown",
   "metadata": {
    "collapsed": true
   },
   "source": [
    "## 자료형\n",
    "\n",
    "파이썬에는 8개의 자료형이 미리 선언되어 있다. 그중 네 개는 기본자료형이며, 나머지 네 개는 모둠 자료형(모음 자료형)이다. "
   ]
  },
  {
   "cell_type": "markdown",
   "metadata": {
    "collapsed": true
   },
   "source": [
    "#### 기본 자료형\n",
    "\n",
    "하나의 값만을 대상으로 한다는 의미에서 기본 자료형이다. \n",
    "즉, 정수 하나, 부동소수점 하나, 불리언 값 하나, 문자열 하나 등등.\n",
    "\n",
    "* 정수(int)\n",
    "* 부동소수점(float)\n",
    "* 불리언 값(bool)\n",
    "* 문자열(str)"
   ]
  },
  {
   "cell_type": "markdown",
   "metadata": {
    "collapsed": true
   },
   "source": [
    "#### 모둠(collection) 자료형\n",
    "\n",
    "여러 개의 값들을 하나로 묶어서 다룬다는 의미에서 모둠 자료형이라 부른다.\n",
    "\n",
    "* 리스트(list)\n",
    "* 튜플(tuple)\n",
    "* 집합(set)\n",
    "* 사전(dictionary)\n",
    "\n",
    "여기서는 기본 자료형을 소개하고, 모둠 자료형은 이후에 하나씩 다룬다."
   ]
  },
  {
   "cell_type": "markdown",
   "metadata": {},
   "source": [
    "### 정수(int)\n",
    "\n",
    "일반적으로 알고 있는 정수(자연수, 0, 음의 정수)들의 자료형을 나타내면 덧셈, 뺄셈, 곱셈, 나눗셈 등의 일반 연산이 가능하다. "
   ]
  },
  {
   "cell_type": "markdown",
   "metadata": {},
   "source": [
    "### 부동소수점(float)\n",
    "\n",
    "실수에 해당하는 수를 가리킨다. \n",
    "\n",
    "**주의:**\n",
    "\n",
    "부동소수점은 원래 실수를 컴퓨터에서 다루기 위해 개발되었으나 실제로는 유리수 일부만을 다룬다. \n",
    "무리수인 원주율 $\\pi$의 경우에도 컴퓨터의 한계로 인해 소수점 이하 적당한 자리에서 끊어서 사용한다. "
   ]
  },
  {
   "cell_type": "code",
   "execution_count": 32,
   "metadata": {},
   "outputs": [
    {
     "name": "stdout",
     "output_type": "stream",
     "text": [
      "4.0\n"
     ]
    }
   ],
   "source": [
    "new_float = 4.0\n",
    "print(new_float)"
   ]
  },
  {
   "cell_type": "markdown",
   "metadata": {},
   "source": [
    "정수와 실수 사이에 자료형 강제변환이 가능하다. \n",
    "실수를 정수로 변환하고자 할 경우 `int()` 함수를 사용한다. \n",
    "그러면 소수점 이하는 버려진다. "
   ]
  },
  {
   "cell_type": "code",
   "execution_count": 33,
   "metadata": {},
   "outputs": [
    {
     "data": {
      "text/plain": [
       "4"
      ]
     },
     "execution_count": 33,
     "metadata": {},
     "output_type": "execute_result"
    }
   ],
   "source": [
    "int(4.8)"
   ]
  },
  {
   "cell_type": "markdown",
   "metadata": {},
   "source": [
    "정수를 실수로 형변환하려면 `float()` 함수를 사용한다."
   ]
  },
  {
   "cell_type": "code",
   "execution_count": 34,
   "metadata": {},
   "outputs": [
    {
     "data": {
      "text/plain": [
       "2.0"
      ]
     },
     "execution_count": 34,
     "metadata": {},
     "output_type": "execute_result"
    }
   ],
   "source": [
    "float(2)"
   ]
  },
  {
   "cell_type": "markdown",
   "metadata": {},
   "source": [
    "**주의:**\n",
    "\n",
    "`int`, `float`, `str` 등은 자료형을 나타내는 키워드로 사용되거나 자료형 변환을 위한 함수 이름으로 사용된다."
   ]
  },
  {
   "cell_type": "markdown",
   "metadata": {},
   "source": [
    "변수를 대상으로 형변환을 적용해도 변수에 할당된 값이 변하진 않는다.\n",
    "다만, 형변환한 값을 다른 변수에 저장해서 활용할 수는 있다."
   ]
  },
  {
   "cell_type": "code",
   "execution_count": 35,
   "metadata": {},
   "outputs": [
    {
     "name": "stdout",
     "output_type": "stream",
     "text": [
      "2.0\n",
      "<class 'int'>\n"
     ]
    }
   ],
   "source": [
    "basic_int = 2\n",
    "print(float(basic_int))\n",
    "print(type(basic_int))"
   ]
  },
  {
   "cell_type": "markdown",
   "metadata": {},
   "source": [
    "**주의:**\n",
    "\n",
    "두 개의 함수를 합성하여 사용할 수 있음에 주의해야 한다.\n",
    "예를 들어,\n",
    "\n",
    "```python\n",
    "print(float(basic_int))\n",
    "```\n",
    "\n",
    "아래 코드와 동일한 기능을 수행한다.\n",
    "\n",
    "```python\n",
    "c = float(basic_int)\n",
    "print(c)\n",
    "```"
   ]
  },
  {
   "cell_type": "markdown",
   "metadata": {},
   "source": [
    "#### 키워드 관련 주의사항\n",
    "\n",
    "지금까지 살펴보았듯이 `float`, `int`, `print`, `type`와 같은 단어는 녹색으로 표시되는데 이는 그 단어들이 파이썬에서 특별한 역할을 수행하기 때문이다. \n",
    "\n",
    "그런 키워드를 재정의할 수는 있지만 하지 않는 것이 좋다. \n",
    "혹여 실수로 아래와 같은 일을 할 수도 있는데 매우 조심해야 한다."
   ]
  },
  {
   "cell_type": "code",
   "execution_count": 36,
   "metadata": {},
   "outputs": [
    {
     "name": "stdout",
     "output_type": "stream",
     "text": [
      "What have we done to int? 4\n"
     ]
    },
    {
     "ename": "TypeError",
     "evalue": "'int' object is not callable",
     "output_type": "error",
     "traceback": [
      "\u001b[0;31m---------------------------------------------------------------------------\u001b[0m",
      "\u001b[0;31mTypeError\u001b[0m                                 Traceback (most recent call last)",
      "\u001b[0;32m<ipython-input-36-a632952306d2>\u001b[0m in \u001b[0;36m<module>\u001b[0;34m\u001b[0m\n\u001b[1;32m      1\u001b[0m \u001b[0mint\u001b[0m \u001b[0;34m=\u001b[0m \u001b[0;36m4\u001b[0m\u001b[0;34m\u001b[0m\u001b[0;34m\u001b[0m\u001b[0m\n\u001b[1;32m      2\u001b[0m \u001b[0mprint\u001b[0m\u001b[0;34m(\u001b[0m\u001b[0;34m\"What have we done to int?\"\u001b[0m\u001b[0;34m,\u001b[0m \u001b[0mint\u001b[0m\u001b[0;34m)\u001b[0m\u001b[0;34m\u001b[0m\u001b[0;34m\u001b[0m\u001b[0m\n\u001b[0;32m----> 3\u001b[0;31m \u001b[0mint\u001b[0m\u001b[0;34m(\u001b[0m\u001b[0;36m5.0\u001b[0m\u001b[0;34m)\u001b[0m\u001b[0;34m\u001b[0m\u001b[0;34m\u001b[0m\u001b[0m\n\u001b[0m",
      "\u001b[0;31mTypeError\u001b[0m: 'int' object is not callable"
     ]
    }
   ],
   "source": [
    "int = 4\n",
    "print(\"What have we done to int?\", int)\n",
    "int(5.0)"
   ]
  },
  {
   "cell_type": "markdown",
   "metadata": {},
   "source": [
    "즉, `int()` 함수의 본래의 정의가 사라졌다. 이럴 때는 아래와 같이 원래의 함수로 되돌릴 수 있다."
   ]
  },
  {
   "cell_type": "code",
   "execution_count": null,
   "metadata": {},
   "outputs": [],
   "source": [
    "del int\n",
    "int(5.0)"
   ]
  },
  {
   "cell_type": "markdown",
   "metadata": {},
   "source": [
    "#### 연산자 우선순위\n",
    "\n",
    "일반적으로 알려진 연산자들 사이의 우선순위를 알아야 한다. \n",
    "줄여서 PEMDAS(펨다스)로 기억하면 좋다. \n",
    "\n",
    "PEMDAS: \n",
    "* 괄호(Parentheses)\n",
    "* 지수승(Exponents)\n",
    "* 곱셈(Multiplication)\n",
    "* 나눗셈(Division)\n",
    "* 덧셈(Addition)\n",
    "* 뺄셈(Subtraction).\n",
    "\n",
    "왼쪽에 오는 연산자의 우선순위가 높다.\n",
    "지수승을 나타내는 기호는 `**`이다."
   ]
  },
  {
   "cell_type": "code",
   "execution_count": null,
   "metadata": {},
   "outputs": [],
   "source": [
    "eqn1 = 2 * 3 - 2\n",
    "print(eqn1)"
   ]
  },
  {
   "cell_type": "code",
   "execution_count": null,
   "metadata": {},
   "outputs": [],
   "source": [
    "eqn2 = -2 + 2 * 3\n",
    "print( eqn2 )"
   ]
  },
  {
   "cell_type": "code",
   "execution_count": null,
   "metadata": {},
   "outputs": [],
   "source": [
    "eqn3 = -2 + (2 % 3)\n",
    "print( eqn3 )"
   ]
  },
  {
   "cell_type": "code",
   "execution_count": null,
   "metadata": {},
   "outputs": [],
   "source": [
    "eqn4 = (.3 + 5) // 2\n",
    "print(eqn4)"
   ]
  },
  {
   "cell_type": "code",
   "execution_count": null,
   "metadata": {},
   "outputs": [],
   "source": [
    "eqn5 = 2 ** 4 // 2\n",
    "print(eqn5)"
   ]
  },
  {
   "cell_type": "markdown",
   "metadata": {},
   "source": [
    "#### 크기 비교\n",
    "\n",
    "일반적으로 사용하는 숫자들의 비교를 나타내는 연산자들은 다음과 같다. 리턴값은 모두 불리언 자료형이다.\n",
    "\n",
    "* `!=`: 다른지 여부를 판단\n",
    "* `==`: 같은지 여부를 판단\n",
    "* `<=`: 작거나 같은지 여부를 판단\n",
    "* `>=`: 크거나 같은지 여부를 판단\n",
    "* `<`: 작은지 여부를 판단\n",
    "* `>`: 큰지 여부를 판단"
   ]
  },
  {
   "cell_type": "code",
   "execution_count": null,
   "metadata": {},
   "outputs": [],
   "source": [
    "4 == 4"
   ]
  },
  {
   "cell_type": "code",
   "execution_count": null,
   "metadata": {},
   "outputs": [],
   "source": [
    "4 == 5"
   ]
  },
  {
   "cell_type": "code",
   "execution_count": null,
   "metadata": {},
   "outputs": [],
   "source": [
    "4 != 2"
   ]
  },
  {
   "cell_type": "code",
   "execution_count": null,
   "metadata": {},
   "outputs": [],
   "source": [
    "4 != 4"
   ]
  },
  {
   "cell_type": "code",
   "execution_count": null,
   "metadata": {},
   "outputs": [],
   "source": [
    "4 > 2"
   ]
  },
  {
   "cell_type": "code",
   "execution_count": null,
   "metadata": {},
   "outputs": [],
   "source": [
    "4 > 4"
   ]
  },
  {
   "cell_type": "code",
   "execution_count": 37,
   "metadata": {},
   "outputs": [
    {
     "data": {
      "text/plain": [
       "True"
      ]
     },
     "execution_count": 37,
     "metadata": {},
     "output_type": "execute_result"
    }
   ],
   "source": [
    "4 >= 4"
   ]
  },
  {
   "cell_type": "code",
   "execution_count": 38,
   "metadata": {},
   "outputs": [
    {
     "data": {
      "text/plain": [
       "False"
      ]
     },
     "execution_count": 38,
     "metadata": {},
     "output_type": "execute_result"
    }
   ],
   "source": [
    "False or False"
   ]
  },
  {
   "cell_type": "markdown",
   "metadata": {},
   "source": [
    "### 불리언 값(bool)\n",
    "`if` 또는 `while` 문에서 사용되는 불리언 자료형에는 두 개의 값만 사용된다.\n",
    "* `True`\n",
    "* `False`\n",
    "\n",
    "이 두 개의 값만을 이용하여 복잡한 프로그램을 구현할 수 있다.\n",
    "\n",
    "예제: 강아지를 한 마리만 갖고 있다고 가정하자. \n",
    "\n",
    "이것을 표현하기 위해 puppy(강아지 한마리)라는 변수에 True를 할당하고, 여러 마리의 강아지를 뜻하는 puppies 변수에는 False를 할당한다."
   ]
  },
  {
   "cell_type": "code",
   "execution_count": 39,
   "metadata": {},
   "outputs": [],
   "source": [
    "puppy = True"
   ]
  },
  {
   "cell_type": "code",
   "execution_count": 40,
   "metadata": {},
   "outputs": [
    {
     "name": "stdout",
     "output_type": "stream",
     "text": [
      "True\n"
     ]
    }
   ],
   "source": [
    "print(puppy)"
   ]
  },
  {
   "cell_type": "code",
   "execution_count": 41,
   "metadata": {},
   "outputs": [
    {
     "data": {
      "text/plain": [
       "bool"
      ]
     },
     "execution_count": 41,
     "metadata": {},
     "output_type": "execute_result"
    }
   ],
   "source": [
    "type(puppy)"
   ]
  },
  {
   "cell_type": "code",
   "execution_count": 42,
   "metadata": {},
   "outputs": [],
   "source": [
    "puppies = False"
   ]
  },
  {
   "cell_type": "markdown",
   "metadata": {},
   "source": [
    "두 개의 변수 선언을 아래와 같이 동시에 할 수 있다. 등호기호 왼편과 오른편에 사용되는 변수와 값의 개수가 동일해야 함에 주의한다."
   ]
  },
  {
   "cell_type": "code",
   "execution_count": 43,
   "metadata": {},
   "outputs": [],
   "source": [
    "puppy, puppies = True, False"
   ]
  },
  {
   "cell_type": "code",
   "execution_count": 44,
   "metadata": {},
   "outputs": [
    {
     "name": "stdout",
     "output_type": "stream",
     "text": [
      "Do I have a puppy? True\n",
      "Do I have puppies? False\n"
     ]
    }
   ],
   "source": [
    "print(\"Do I have a puppy?\", puppy)\n",
    "print(\"Do I have puppies?\", puppies)"
   ]
  },
  {
   "cell_type": "markdown",
   "metadata": {},
   "source": [
    "주의: 위에서 사용된 print함수의 사용법을 기억해둔다. print 함수는 인자를 여러 개 받을 수 있으며 그 값들을 차례대로 동시에 한 줄에 출력한다. 각각의 값들은 스페이스(space)로 구분되어진다."
   ]
  },
  {
   "cell_type": "markdown",
   "metadata": {},
   "source": [
    "#### 불리언 연산자\n",
    "\n",
    "`and`, `not`, `or` 세 개의 연산자를 이용하여 불리언 연산을 할 수 있다. 각 연산자의 의미는 일반적으로 알려진 것과 동일하다."
   ]
  },
  {
   "cell_type": "code",
   "execution_count": 45,
   "metadata": {},
   "outputs": [
    {
     "data": {
      "text/plain": [
       "True"
      ]
     },
     "execution_count": 45,
     "metadata": {},
     "output_type": "execute_result"
    }
   ],
   "source": [
    "True and True"
   ]
  },
  {
   "cell_type": "code",
   "execution_count": 46,
   "metadata": {},
   "outputs": [
    {
     "data": {
      "text/plain": [
       "False"
      ]
     },
     "execution_count": 46,
     "metadata": {},
     "output_type": "execute_result"
    }
   ],
   "source": [
    "True and False"
   ]
  },
  {
   "cell_type": "markdown",
   "metadata": {},
   "source": [
    "불리언 자료형의 변수를 이용하여 연산을 수행할 수도 있다."
   ]
  },
  {
   "cell_type": "code",
   "execution_count": 47,
   "metadata": {},
   "outputs": [
    {
     "data": {
      "text/plain": [
       "False"
      ]
     },
     "execution_count": 47,
     "metadata": {},
     "output_type": "execute_result"
    }
   ],
   "source": [
    "puppy and puppies"
   ]
  },
  {
   "cell_type": "code",
   "execution_count": 48,
   "metadata": {},
   "outputs": [
    {
     "data": {
      "text/plain": [
       "True"
      ]
     },
     "execution_count": 48,
     "metadata": {},
     "output_type": "execute_result"
    }
   ],
   "source": [
    "not puppies"
   ]
  },
  {
   "cell_type": "code",
   "execution_count": 49,
   "metadata": {},
   "outputs": [
    {
     "data": {
      "text/plain": [
       "False"
      ]
     },
     "execution_count": 49,
     "metadata": {},
     "output_type": "execute_result"
    }
   ],
   "source": [
    "not puppy"
   ]
  },
  {
   "cell_type": "markdown",
   "metadata": {},
   "source": [
    "#### 불리언 연산자 우선순위"
   ]
  },
  {
   "cell_type": "markdown",
   "metadata": {},
   "source": [
    "not 연산자의 우선순위가 가장 높다."
   ]
  },
  {
   "cell_type": "code",
   "execution_count": 50,
   "metadata": {},
   "outputs": [
    {
     "data": {
      "text/plain": [
       "True"
      ]
     },
     "execution_count": 50,
     "metadata": {},
     "output_type": "execute_result"
    }
   ],
   "source": [
    "puppy and not puppies"
   ]
  },
  {
   "cell_type": "code",
   "execution_count": 51,
   "metadata": {},
   "outputs": [
    {
     "data": {
      "text/plain": [
       "True"
      ]
     },
     "execution_count": 51,
     "metadata": {},
     "output_type": "execute_result"
    }
   ],
   "source": [
    "puppy or puppies"
   ]
  },
  {
   "cell_type": "code",
   "execution_count": 52,
   "metadata": {},
   "outputs": [
    {
     "data": {
      "text/plain": [
       "False"
      ]
     },
     "execution_count": 52,
     "metadata": {},
     "output_type": "execute_result"
    }
   ],
   "source": [
    "False or False"
   ]
  },
  {
   "cell_type": "markdown",
   "metadata": {},
   "source": [
    "### 예제"
   ]
  },
  {
   "cell_type": "markdown",
   "metadata": {},
   "source": [
    "두 숫자의 평균값을 구하는 함수를 아래와 같이 작성할 수 있다.\n",
    "\n",
    "주의: 함수에 대해서는 이후에 좀 더 자세히 다룬다. 여기서는 함수를 작성하는 방식에 주의한다. \n",
    "\n",
    "함수 작성요령:\n",
    "\n",
    "```python\n",
    "def 함수이름(인자1, 인자2, ..., 인자k):\n",
    "    함수본체\n",
    "    return 리턴값\n",
    "```"
   ]
  },
  {
   "cell_type": "markdown",
   "metadata": {},
   "source": [
    "**주의: `print`와 `return`의 차이점**\n",
    "\n",
    "* `return`은 함수가 실행을 멈춘 후 결과값을 리턴할 때 사용하는 키워드이다. \n",
    "* 보통 \"리턴한다\", \"반환한다\" 등으로 번역한다. \n",
    "* 함수의 입력값들을 이용하여 프로그램을 실행한 후에 계산된 결과를 반환한다.\n",
    "* 예를 들어, 아래 'average' 함수는 입력받은 두 수의 평균값을 계산하여 반환한다.\n",
    "* 반환된 값은 다른 변수나 메모리에 저장화여 재활용할 수 있다.\n",
    "* `return` 키워드로 지정되지 않은 값들은 재활용을 하지 못한다. \n",
    "* 예를 들어, 아래 `average_noReturn` 함수는 계산된 평균값 `c`를 반환하지 \n",
    "    않아서 더 이상 사용되지 않고 버려진다. \n",
    "* 아래 코드를 실행하면 터미널에 c에 저장된 평균값이 보여지지만 그 값을 다른 식으로 \n",
    "    활용할 수는 없다. \n",
    "* `print`와 `return`의 차이점에 주의해야 한다.\n",
    "\n",
    "```python\n",
    "def average_noReturn(a, b):\n",
    "    c = (a + b) * 0.5\n",
    "    print(c)\n",
    "```"
   ]
  },
  {
   "cell_type": "code",
   "execution_count": 53,
   "metadata": {},
   "outputs": [],
   "source": [
    "def average(a, b):\n",
    "    \"\"\" 두 개의 숫자 a와 b가 주어졌을 때,\n",
    "    두 숫자의 평균을 리턴하는 함수\"\"\"\n",
    "\n",
    "    return (a + b) * 0.5"
   ]
  },
  {
   "cell_type": "markdown",
   "metadata": {},
   "source": [
    "주의: \n",
    "\n",
    "* 큰 따옴표 세 개(\"\"\"...\"\"\")로 둘러싸인 부분은 문서화를 위해 사용되며 주석으로 처리된다.\n",
    "즉, 정의되는 함수의 의미와 역할에 대한 설명을 담는다. 영어로 독스트링(docstring)이라 부른다. \n",
    "\n",
    "* 주석 등에 한글을 사용하고자 할 경우 아래 문장이 파이썬 코드 문서 맨 첫줄에 있어야 한다.\n",
    "\n",
    "```python\n",
    "# coding: utf-8\n",
    "```"
   ]
  },
  {
   "cell_type": "code",
   "execution_count": 54,
   "metadata": {},
   "outputs": [
    {
     "data": {
      "text/plain": [
       "15.0"
      ]
     },
     "execution_count": 54,
     "metadata": {},
     "output_type": "execute_result"
    }
   ],
   "source": [
    "average(10, 20)"
   ]
  },
  {
   "cell_type": "code",
   "execution_count": 55,
   "metadata": {},
   "outputs": [
    {
     "data": {
      "text/plain": [
       "7.0"
      ]
     },
     "execution_count": 55,
     "metadata": {},
     "output_type": "execute_result"
    }
   ],
   "source": [
    "average(10, 4)"
   ]
  },
  {
   "cell_type": "markdown",
   "metadata": {},
   "source": [
    "함수에 대한 정보를 얻고자 할 경우 `help()` 함수를 활용할 수 있다. \n",
    "그러면 앞서 `average` 함수를 정의할 때 함께 적어 넣은 독스트링이 보여진다."
   ]
  },
  {
   "cell_type": "code",
   "execution_count": 56,
   "metadata": {},
   "outputs": [
    {
     "name": "stdout",
     "output_type": "stream",
     "text": [
      "Help on function average in module __main__:\n",
      "\n",
      "average(a, b)\n",
      "    두 개의 숫자 a와 b가 주어졌을 때,\n",
      "    두 숫자의 평균을 리턴하는 함수\n",
      "\n"
     ]
    }
   ],
   "source": [
    "help(average)"
   ]
  },
  {
   "cell_type": "markdown",
   "metadata": {},
   "source": [
    "### 예제\n",
    "\n",
    "주어진 자연수 `n`이 짝수면 `True`를, 홀수면 `False`를 리턴하는 함수 `even_test(n)`을 정의하라.\n",
    "\n",
    "활용 예:\n",
    "\n",
    "```python\n",
    "In [11]: even_test(27)\n",
    "Out[11]: False\n",
    "\n",
    "In [12]: even_test(4)\n",
    "Out[12]: True\n",
    "```"
   ]
  },
  {
   "cell_type": "markdown",
   "metadata": {},
   "source": [
    "견본답안:"
   ]
  },
  {
   "cell_type": "code",
   "execution_count": 57,
   "metadata": {},
   "outputs": [],
   "source": [
    "def even_test(n):\n",
    "    if n%2 == 0:\n",
    "        return True\n",
    "    else:\n",
    "        return False"
   ]
  },
  {
   "cell_type": "code",
   "execution_count": 58,
   "metadata": {},
   "outputs": [
    {
     "data": {
      "text/plain": [
       "False"
      ]
     },
     "execution_count": 58,
     "metadata": {},
     "output_type": "execute_result"
    }
   ],
   "source": [
    "even_test(17)"
   ]
  },
  {
   "cell_type": "code",
   "execution_count": 59,
   "metadata": {},
   "outputs": [
    {
     "data": {
      "text/plain": [
       "True"
      ]
     },
     "execution_count": 59,
     "metadata": {},
     "output_type": "execute_result"
    }
   ],
   "source": [
    "even_test(4)"
   ]
  },
  {
   "cell_type": "markdown",
   "metadata": {},
   "source": [
    "아래 방식도 가능하다. (이유를 스스로 설명할 수 있어야 한다.)"
   ]
  },
  {
   "cell_type": "code",
   "execution_count": 60,
   "metadata": {},
   "outputs": [],
   "source": [
    "def even_test1(n):\n",
    "    if not n%2:\n",
    "        return True\n",
    "    else:\n",
    "        return False"
   ]
  },
  {
   "cell_type": "code",
   "execution_count": 61,
   "metadata": {},
   "outputs": [
    {
     "data": {
      "text/plain": [
       "False"
      ]
     },
     "execution_count": 61,
     "metadata": {},
     "output_type": "execute_result"
    }
   ],
   "source": [
    "even_test1(17)"
   ]
  },
  {
   "cell_type": "code",
   "execution_count": 62,
   "metadata": {},
   "outputs": [
    {
     "data": {
      "text/plain": [
       "True"
      ]
     },
     "execution_count": 62,
     "metadata": {},
     "output_type": "execute_result"
    }
   ],
   "source": [
    "even_test1(4)"
   ]
  },
  {
   "cell_type": "markdown",
   "metadata": {},
   "source": [
    "### 예제\n",
    "\n",
    "변의 길이가 각각 `a`, `b`, `c`인 삼각형의 면적 `A`를 계산하는 함수 `triangle_area(a, b, c)`를 정의하라. \n",
    "다음 등식을 이용할 수 있다. \n",
    "\n",
    "    A = (s * (s - a) * (s - b) * (s - c)) ** 0.5\n",
    "    s = (a + b + c) / 2\n",
    "    \n",
    "아래 사이트 참조:\n",
    "\n",
    "https://ko.wikipedia.org/wiki/%EC%82%BC%EA%B0%81%ED%98%95"
   ]
  },
  {
   "cell_type": "markdown",
   "metadata": {},
   "source": [
    "힌트: 제곱근을 계산해주는 `sqrt()`를 이용한다. 단, `sqrt()` 함수를 이용하려면 먼저 `math` 라는 모듈을 아래와 같이 임포트 해야 한다.\n",
    "\n",
    "```python\n",
    "import math\n",
    "```\n",
    "\n",
    "이후에 `math.sqrt(3)`와 같은 형식으로 제곱근 함수를 호출할 수 있다.\n",
    "sqrt에 대해 알고 싶으면 help 함수를 활용한다.\n",
    "\n",
    "```python\n",
    "help(math.sqrt)\n",
    "```\n",
    "\n",
    "주의: 모듈에 대해서는 이후에 자세히 다룬다. \n",
    "여기서는 여러 함수들의 정의가 포함된 파이썬 코드 파일이라는 사실만 기억하자."
   ]
  },
  {
   "cell_type": "markdown",
   "metadata": {},
   "source": [
    "견본답안:"
   ]
  },
  {
   "cell_type": "code",
   "execution_count": 63,
   "metadata": {},
   "outputs": [],
   "source": [
    "import math\n",
    "\n",
    "def triangle_area(a, b, c):\n",
    "    s = (a + b + c) / 2.0\n",
    "    A = (s * (s - a) * (s - b) * (s - c))\n",
    "    \n",
    "    return math.sqrt(A)"
   ]
  },
  {
   "cell_type": "code",
   "execution_count": 64,
   "metadata": {},
   "outputs": [
    {
     "data": {
      "text/plain": [
       "1.984313483298443"
      ]
     },
     "execution_count": 64,
     "metadata": {},
     "output_type": "execute_result"
    }
   ],
   "source": [
    "triangle_area(2, 2, 3)"
   ]
  },
  {
   "cell_type": "markdown",
   "metadata": {},
   "source": [
    "## 연습문제"
   ]
  },
  {
   "cell_type": "markdown",
   "metadata": {},
   "source": [
    "### 문제\n",
    "\n",
    "두 숫자 `a`와 `b`의 사이의 거리를 리턴하는 함수 `distance(a, b)`를 정의하라.\n",
    "\n",
    "활용 예:\n",
    "\n",
    "```python\n",
    "In [11]: distance(3, 4)\n",
    "Out[11]: 1\n",
    "\n",
    "In [12]: distance(3, 1)\n",
    "Out[12]: 2\n",
    "```"
   ]
  },
  {
   "cell_type": "code",
   "execution_count": 65,
   "metadata": {},
   "outputs": [],
   "source": [
    "def distance(a, b):\n",
    "    \"\"\"if-else문을 사용하지 않고도 가능하다.\"\"\"\n",
    "    # 여기에 코드 추가"
   ]
  },
  {
   "cell_type": "markdown",
   "metadata": {},
   "source": [
    "힌트: `abs` 함수 "
   ]
  },
  {
   "cell_type": "markdown",
   "metadata": {},
   "source": [
    "### 문제\n",
    "\n",
    "반지름이 `r`인 원의 넓이를 리턴하는 함수 `circle_area(r)`를 정의하라.\n",
    "\n",
    "활용 예:\n",
    "\n",
    "```python\n",
    "In [11]: circle_area(3)\n",
    "Out[11]: 28.274333882308138\n",
    "\n",
    "In [12]: circle_area(pi)\n",
    "Out[12]: 31.006276680299816\n",
    "```"
   ]
  },
  {
   "cell_type": "markdown",
   "metadata": {},
   "source": [
    "힌트: `math` 모듈을 임포한 후 `pi`를 사용하려면 `math.pi` 등으로 활용하면 된다."
   ]
  },
  {
   "cell_type": "code",
   "execution_count": 66,
   "metadata": {},
   "outputs": [],
   "source": [
    "import math\n",
    "\n",
    "def circle_area(r):\n",
    "    \"\"\"math.pi 사용 가능\"\"\"\n",
    "    # 여기에 코드 추가"
   ]
  },
  {
   "cell_type": "markdown",
   "metadata": {},
   "source": [
    "### 연습\n",
    "\n",
    "두 숫자의 기하평균(geometric mean)을 리턴하는 함수 `geometric_mean(a, b)` 함수를 정의하라. \n",
    "\n",
    "두 숫자 `a`와 `b`의 기하평균을 `c`라 하면, 두 변의 길이가 각각 `a`와 `b`인 직사각형의 넓이와 변의 길이가 `c`인 정사각형의 넓이가 동일함을 의미한다. \n",
    "\n",
    "활용 예:\n",
    "\n",
    "```python\n",
    "In [13]: geometric_mean(2, 2)\n",
    "Out[13]: 2.0\n",
    "\n",
    "In [14]: geometric_mean(2, 8)\n",
    "Out[14]: 4.0\n",
    "\n",
    "In [15]: geometric_mean(2, 1)\n",
    "Out[15]: 1.4142135623730951\n",
    "```"
   ]
  },
  {
   "cell_type": "code",
   "execution_count": 67,
   "metadata": {},
   "outputs": [],
   "source": [
    "import math\n",
    "\n",
    "def geometic_mean(a, b):\n",
    "    \"\"\"math.pi 사용 가능\"\"\"\n",
    "    # 여기에 코드 추가"
   ]
  },
  {
   "cell_type": "markdown",
   "metadata": {},
   "source": [
    "### 문제\n",
    "\n",
    "바닥면적이 `A`이고 높이가 `h`인 피라미드의 부피를 리턴하는 함수 `pyramid_volume(A, h)`를 정의하라. \n",
    "\n",
    "활용 예:\n",
    "\n",
    "```python\n",
    "In [16]: pyramid_volume(1, 2)\n",
    "Out[16]: 0.6666666666666666\n",
    "```"
   ]
  },
  {
   "cell_type": "code",
   "execution_count": 68,
   "metadata": {},
   "outputs": [],
   "source": [
    "def pyramid_volume(A, h):\n",
    "    \"\"\"4각뿔의 부피는 밑면적 * 높이 * 1/3\n",
    "    리턴값이 항상 float 자료형이 되도록 한다.\"\"\"\n",
    "    # 여기에 코드 추가"
   ]
  },
  {
   "cell_type": "markdown",
   "metadata": {},
   "source": [
    "### 문제\n",
    "\n",
    "초(second) 단위의 숫자를 받아서 일(day) 단위의 값으로 되돌려주는 `seconds2days(sec)` 함수를 정의하라. 입력값은 `int` 또는 `float` 일 수 있으며 리턴값은 `float` 자료형이어야 한다.\n",
    "\n",
    "활용 예:\n",
    "\n",
    "```python\n",
    "In [17]: seconds2days(43200)\n",
    "Out[17]: 0.5\n",
    "```"
   ]
  },
  {
   "cell_type": "code",
   "execution_count": 69,
   "metadata": {},
   "outputs": [],
   "source": [
    "# 하루는 아래 숫자만큼의 초로 이루어진다.\n",
    "# 하루 = 24시간 * 60분 * 60초.\n",
    "\n",
    "daysec = 60 * 60 * 24\n",
    "\n",
    "# 이제 초를 일 단위로 변경할 수 있다.\n",
    "def seconds2days(sec):\n",
    "    \"\"\" sec을 일 단위로 변경하는 함수.\n",
    "    강제형변환에 주의할 것\"\"\"\n",
    "    # 여기에 코드 추가"
   ]
  },
  {
   "cell_type": "markdown",
   "metadata": {},
   "source": [
    "### 문제\n",
    "\n",
    "변의 길이가 각각 `a`, `b`, `c`인 직각육면체의 표면적을 계산해주는 함수 \n",
    "`box_surface(a, b, c)`를 정의하라. \n",
    "예를 들어, 박스를 페인트칠하고자 할 때 필요한 페인트의 양을 계산하는 문제이다.\n",
    "\n",
    "활용 예:\n",
    "\n",
    "```python\n",
    "In [18]: box_surface(1, 1, 1)\n",
    "Out[18]: 6\n",
    "\n",
    "In [19]: box_surface(2, 2, 3)\n",
    "Out[19]: 32\n",
    "```"
   ]
  },
  {
   "cell_type": "code",
   "execution_count": 70,
   "metadata": {},
   "outputs": [],
   "source": [
    "def box_surface(a, b, c):\n",
    "    \"\"\" 각 변의 길이가 각각 a, b, c인 박스의 표면적을 리턴하는 함수.\n",
    "    힌트: 6개의 면의 합을 구하면 된다\"\"\"\n",
    "    # 여기에 코드 추가"
   ]
  }
 ],
 "metadata": {
  "kernelspec": {
   "display_name": "Python 3",
   "language": "python",
   "name": "python3"
  },
  "language_info": {
   "codemirror_mode": {
    "name": "ipython",
    "version": 3
   },
   "file_extension": ".py",
   "mimetype": "text/x-python",
   "name": "python",
   "nbconvert_exporter": "python",
   "pygments_lexer": "ipython3",
   "version": "3.6.8"
  }
 },
 "nbformat": 4,
 "nbformat_minor": 1
}
