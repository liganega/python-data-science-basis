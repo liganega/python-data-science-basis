{
 "cells": [
  {
   "cell_type": "markdown",
   "metadata": {},
   "source": [
    "# 프로그래밍 실행 흐름 제어: 조건문과 반복문"
   ]
  },
  {
   "cell_type": "markdown",
   "metadata": {},
   "source": [
    "## 주요 내용\n",
    "\n",
    "* 조건문\n",
    "    * `if ... else ...` 명령문: 조건에 따라 서로 다른 명령문 실행\n",
    "\n",
    "\n",
    "* 반복문(루프)\n",
    "    * `while` 명령문: 특정 조건이 만족되는 동안 동일한 명령문 반복 실행\n",
    "\n",
    "    * `for ... in ...` 명령문: 지정된 구간 내에서 동일한 명령문 반복 실행\n",
    "        * 일반적으로 모둠 자료형과 함께 사용됨\n",
    "        * `range()` 함수가 중요"
   ]
  },
  {
   "cell_type": "markdown",
   "metadata": {},
   "source": [
    "### 주요 예제\n",
    "\n",
    "* 정수 `n, m`의 최대공약수를 구하는 함수 `gcd(n,m)` 구현:\n",
    "    ```python\n",
    "    gcd(6, 8) = 2\n",
    "    gcd(14, 21) = 3\n",
    "    ```\n",
    "* 임의의 자연수 n에 대해 1부터 n까지의 자연수 중에서 3의 배수이거나 숫자 3을 포함하는\n",
    "    수들의 합을 구하는 함수 `sum_of_3s()` 구현:\n",
    "    ```python\n",
    "    sum_of_3s(10) = 3 + 6 + 9\n",
    "    sum_of_3s(15) = 3 + 6 + 9 + 12 + 13 + 15\n",
    "    ```"
   ]
  },
  {
   "cell_type": "markdown",
   "metadata": {},
   "source": [
    "## 조건문\n",
    "\n",
    "특정 조건 하에서만 할 수 있는 일들이 있다.\n",
    "예를 들어, **숫자 k가 3의 배수이거나 3으로 끝나는 경우에만** 그 값을 다른 값에 더하라고 할 수 있다.\n",
    "\n",
    "위 문장을 코드로 나타내려면 아래 요소들이 필요하다. \n",
    "\n",
    "* __이런저런__ 경우에만 __무엇무엇__을 해라.\n",
    "* 숫자 k가 3의 배수이다.\n",
    "* 숫자 k가 숫자 3으로 끝난다."
   ]
  },
  {
   "cell_type": "markdown",
   "metadata": {},
   "source": [
    "* \"이런저런 경우에만 무엇, 무엇을 해라\"는 `if`문으로 나타낸다.\n",
    "    ```python\n",
    "    if 이런저런:\n",
    "        무엇\n",
    "        무엇\n",
    "    ```\n",
    "* \"숫자 k가 3의 배수이다\"는 아래 수식으로 표현된다.\n",
    "    ```python\n",
    "    k % 3 == 0\n",
    "    ```\n",
    "* \"숫자 k가 숫자 3으로 끝난다\"는 좀 더 어렵지만, 앞서 배운 문자열 메소드를 활용하면 된다.\n",
    "    ```python\n",
    "    str(k).endswith('3')\n",
    "    ```\n",
    "    여기서 `str()` 함수는 숫자를 문자열로 형변환 시키는 함수이다. \n",
    "    `int()` 또는 `float()` 함수와 반대의 일을 한다."
   ]
  },
  {
   "cell_type": "markdown",
   "metadata": {},
   "source": [
    "### 예제\n",
    "\n",
    "임의의 두 정수 k, m에 대해, \n",
    "m이 3의 배수이거나 3으로 끝나는 숫자일 경우에는\n",
    "k와 m을 더한 값을 반환하고,\n",
    "그렇지 않은 경우에는 k를 반환하는 \n",
    "함수 `sum_if_3end()`를 구현하라."
   ]
  },
  {
   "cell_type": "markdown",
   "metadata": {},
   "source": [
    "견본답안:"
   ]
  },
  {
   "cell_type": "code",
   "execution_count": 4,
   "metadata": {},
   "outputs": [],
   "source": [
    "def sum_if_3end(k, m):\n",
    "    if (m % 3 == 0) or (str(m).endswith('3')):\n",
    "        return k + m\n",
    "    else:\n",
    "        return k"
   ]
  },
  {
   "cell_type": "markdown",
   "metadata": {},
   "source": [
    "**주의:** `else`문은 `if`문에 사용된 조건(불리언 표현식)이 거짓인 경우에\n",
    "해야할 일을 지정한다."
   ]
  },
  {
   "cell_type": "code",
   "execution_count": 2,
   "metadata": {},
   "outputs": [
    {
     "data": {
      "text/plain": [
       "23"
      ]
     },
     "execution_count": 2,
     "metadata": {},
     "output_type": "execute_result"
    }
   ],
   "source": [
    "sum_if_3(5, 18)"
   ]
  },
  {
   "cell_type": "code",
   "execution_count": 3,
   "metadata": {},
   "outputs": [
    {
     "data": {
      "text/plain": [
       "4"
      ]
     },
     "execution_count": 3,
     "metadata": {},
     "output_type": "execute_result"
    }
   ],
   "source": [
    "sum_if_3(4, 7)"
   ]
  },
  {
   "cell_type": "markdown",
   "metadata": {},
   "source": [
    "### 예제\n",
    "\n",
    "임의의 두 정수 k, m에 대해, \n",
    "m이 3의 배수이거나 3을 포함하는 숫자일 경우에는\n",
    "k와 m을 더한 값을 반환하고,\n",
    "그렇지 않은 경우에는 k를 반환하는 \n",
    "함수 `sum_if_3in()`을 구현하라."
   ]
  },
  {
   "cell_type": "markdown",
   "metadata": {},
   "source": [
    "힌트: 특정 문자열의 포함여부를 판단하기 위해 `in` 함수를 이용한다."
   ]
  },
  {
   "cell_type": "code",
   "execution_count": 5,
   "metadata": {},
   "outputs": [
    {
     "name": "stdout",
     "output_type": "stream",
     "text": [
      "'bc'가 'abcde'의 부분문자열이다.\n"
     ]
    }
   ],
   "source": [
    "if 'bc' in 'abcde':\n",
    "    print(\"'bc'가 'abcde'의 부분문자열이다.\")"
   ]
  },
  {
   "cell_type": "markdown",
   "metadata": {},
   "source": [
    "견본답안:"
   ]
  },
  {
   "cell_type": "code",
   "execution_count": 6,
   "metadata": {},
   "outputs": [],
   "source": [
    "def sum_if_3in(k, m):\n",
    "    if (m % 3 == 0) or ('3' in str(m)):\n",
    "        return k + m\n",
    "    else:\n",
    "        return k"
   ]
  },
  {
   "cell_type": "code",
   "execution_count": 7,
   "metadata": {},
   "outputs": [
    {
     "data": {
      "text/plain": [
       "33"
      ]
     },
     "execution_count": 7,
     "metadata": {},
     "output_type": "execute_result"
    }
   ],
   "source": [
    "sum_if_3in(2, 31)"
   ]
  },
  {
   "cell_type": "code",
   "execution_count": 8,
   "metadata": {},
   "outputs": [
    {
     "data": {
      "text/plain": [
       "18"
      ]
     },
     "execution_count": 8,
     "metadata": {},
     "output_type": "execute_result"
    }
   ],
   "source": [
    "sum_if_3in(3, 15)"
   ]
  },
  {
   "cell_type": "code",
   "execution_count": 9,
   "metadata": {},
   "outputs": [
    {
     "data": {
      "text/plain": [
       "13"
      ]
     },
     "execution_count": 9,
     "metadata": {},
     "output_type": "execute_result"
    }
   ],
   "source": [
    "sum_if_3in(13, 28)"
   ]
  },
  {
   "cell_type": "markdown",
   "metadata": {},
   "source": [
    "### 중첩 조건문과 다중 조건문\n",
    "\n",
    "* `if ... else ...` 문은 두 가지 경우를 처리할 때 사용한다.\n",
    "* 반면에, 예를 들어, 크거나, 같거나, 작거나 등 세 가지 이상의 경우를 처리하려면 \n",
    "    * `if ... else ...`문을 중첩해서 사용하거나\n",
    "    * `if ... elif ... elif ... else ...` 처럼 다중 조건문을 사용할 수 있다."
   ]
  },
  {
   "cell_type": "markdown",
   "metadata": {},
   "source": [
    "#### 중첩 조건문 예제"
   ]
  },
  {
   "cell_type": "code",
   "execution_count": 10,
   "metadata": {},
   "outputs": [
    {
     "name": "stdout",
     "output_type": "stream",
     "text": [
      "num1이 num2 보다 작다.\n"
     ]
    }
   ],
   "source": [
    "num1 = 5\n",
    "num2 = 10\n",
    "\n",
    "if num1 < num2:\n",
    "    print(\"num1이 num2 보다 작다.\")\n",
    "else:\n",
    "    if num1 == num2:\n",
    "        print(\"num1이 num2와 같다.\")\n",
    "    else:\n",
    "        print(\"num1이 num2 보다 크다.\")"
   ]
  },
  {
   "cell_type": "markdown",
   "metadata": {},
   "source": [
    "#### 다중 조건문 예제"
   ]
  },
  {
   "cell_type": "code",
   "execution_count": 10,
   "metadata": {},
   "outputs": [
    {
     "name": "stdout",
     "output_type": "stream",
     "text": [
      "num1이 num2 보다 작다.\n"
     ]
    }
   ],
   "source": [
    "num1 = 5\n",
    "num2 = 10\n",
    "\n",
    "if num1 < num2:\n",
    "    print(\"num1이 num2 보다 작다.\")\n",
    "elif num1 == num2:\n",
    "    print(\"num1이 num2와 같다.\")\n",
    "else:\n",
    "    print(\"num1이 num2 보다 크다.\")"
   ]
  },
  {
   "cell_type": "markdown",
   "metadata": {
    "collapsed": true
   },
   "source": [
    "**주의:** 가능하다면 다중 조건문을 활용하여 프로그램 소스코드의 복잡도를 줄여야 한다."
   ]
  },
  {
   "cell_type": "markdown",
   "metadata": {},
   "source": [
    "## 반복문(루프)"
   ]
  },
  {
   "cell_type": "markdown",
   "metadata": {},
   "source": [
    "반복문(루프, loop)은 동일한 명령문을 반복 실행시킬 때 사용한다. \n",
    "\n",
    "* `while` 반복문: 특정 조건이 만족되는 동안 반복하고자 할 경우 사용\n",
    "    * 게임프로그래밍에서 많이 사용됨\n",
    "    * 머신러닝, 딥러닝에서 기본적으로 사용됨\n",
    "    * 주의: 사용된 조건이 언제 거짓이 될지 반드시 알 수 있는 것은 아님.\n",
    "* `for` 반복문: 반복이 몇 번 필요한지 미리 아는 경우 사용\n",
    "    * 주의: 반복횟수를 알아내는 일이 매우 어려운 경우도 있음."
   ]
  },
  {
   "cell_type": "markdown",
   "metadata": {},
   "source": [
    "### `while` 반복문"
   ]
  },
  {
   "cell_type": "markdown",
   "metadata": {},
   "source": [
    "`while` 반복문은 아래 모양을 갖는다:\n",
    "\n",
    "```python\n",
    "while 조건:\n",
    "    명령문1\n",
    "    명령문2\n",
    "    ...\n",
    "    명령문k\n",
    "```\n",
    "\n",
    "설명: **조건**이 참인 동안 `명령문1, ..., 명령문k`를 반복실행한다."
   ]
  },
  {
   "cell_type": "markdown",
   "metadata": {},
   "source": [
    "### 예제\n",
    "\n",
    "나눗셈의 몫을 계산하는 프로그램을 작성해보자.\n",
    "정수 나눗셈의 몫을 어떻게 구현할까? \n",
    "\n",
    "* 우선 **몫**이 어떤 의미인가를 알아야 한다.\n",
    "* 그 다음에 알아낸 의미를 비슷하게 따라하는 명령문을 만들어내야 한다.\n",
    "\n",
    "조금만 생각해보면 다음과 같음을 알 수 있다.\n",
    "\n",
    "* 임의의 정수 `m, n`에 대해, `m`을 `n`으로 나눈 몫은 `m`에서 `n`을 몇 번 뺄 수 있는가와 동일한 의미이다.\n",
    "* `m`에서 `n`을 반복해서 빼는 과정을 뺀 결과가 음수가 되지 않을 때까지 반복하면서 반복횟수를 기억한다.\n",
    "\n",
    "예를 들어 43을 7로 나누었을 때의 몫은 다음과 같이 구할 수 있다."
   ]
  },
  {
   "cell_type": "code",
   "execution_count": 17,
   "metadata": {},
   "outputs": [
    {
     "name": "stdout",
     "output_type": "stream",
     "text": [
      "몫은 6이다\n",
      "몫은 6이다\n"
     ]
    }
   ],
   "source": [
    "number = 43\n",
    "divisor = 7\n",
    "count = 0\n",
    "\n",
    "# While 루프\n",
    "while number > 0:\n",
    "    number = number - divisor\n",
    "    # 음수가 아니라면 빼주는 횟수를 1회 늘린다.\n",
    "    if number > 0:\n",
    "        count += 1 # count = count + 1과 동일한 의미\n",
    "\n",
    "# 이제 answer를 출력하면 된다.\n",
    "print('몫은 '+str(count)+'이다')\n",
    "# format 활용 가능\n",
    "print('몫은 {}이다'.format(count)) "
   ]
  },
  {
   "cell_type": "markdown",
   "metadata": {},
   "source": [
    "**주의:** \n",
    "\n",
    "* `while` 반복문을 작성할 때 조건문이 언젠가는 만족되지 않아서 \n",
    "    더 이상 루프가 돌지 않도록 코드를 작성하는 것이 가장 중요하다. \n",
    "* 경우에 따라 일부터 무한 반복문을 사용하기도 한다.\n",
    "    ```python\n",
    "    while True:\n",
    "        명령문\n",
    "    ```\n",
    "    특히 게임프로그래밍에서 많이 사용됨."
   ]
  },
  {
   "cell_type": "markdown",
   "metadata": {},
   "source": [
    "### 연습\n",
    "\n",
    "두 정수의 최대공약수(gcd)를 반환하는 함수를 구현하라.\n",
    "\n",
    "힌트: [유클리드 호제법](http://tibyte.kr/224)을 활용하라."
   ]
  },
  {
   "cell_type": "markdown",
   "metadata": {},
   "source": [
    "견본답안:"
   ]
  },
  {
   "cell_type": "code",
   "execution_count": 18,
   "metadata": {},
   "outputs": [],
   "source": [
    "def gcd(a, b):\n",
    "    if a < b:\n",
    "        # 이 경우에는 a와 b의 값을 서로 바꾼다.\n",
    "        a, b = b, a\n",
    "    while b != 0:\n",
    "        a, b = b, a % b\n",
    "    return a"
   ]
  },
  {
   "cell_type": "markdown",
   "metadata": {},
   "source": [
    "**주의:** 파이썬에서 두 변수에 할당된 값을 맞교환 하는 방법이 매우 간단하다.\n",
    "하지만 C 또는 자바에서는 다르게 처리해야 한다. \n",
    "예를 들어, 아래와 같은 방식을 이용할 수 있다.\n",
    "```C\n",
    "int a = 3\n",
    "int b = 5\n",
    "int temp\n",
    "\n",
    "temp = a\n",
    "a = b\n",
    "b = temp\n",
    "```"
   ]
  },
  {
   "cell_type": "code",
   "execution_count": 19,
   "metadata": {},
   "outputs": [
    {
     "data": {
      "text/plain": [
       "2"
      ]
     },
     "execution_count": 19,
     "metadata": {},
     "output_type": "execute_result"
    }
   ],
   "source": [
    "gcd(6, 8)"
   ]
  },
  {
   "cell_type": "code",
   "execution_count": 20,
   "metadata": {},
   "outputs": [
    {
     "data": {
      "text/plain": [
       "7"
      ]
     },
     "execution_count": 20,
     "metadata": {},
     "output_type": "execute_result"
    }
   ],
   "source": [
    "gcd(14, 21)"
   ]
  },
  {
   "cell_type": "markdown",
   "metadata": {},
   "source": [
    "### `for` 반복문"
   ]
  },
  {
   "cell_type": "markdown",
   "metadata": {},
   "source": [
    "`while` 반복문과는 달리 몇 번 반복되어야 하는지를 아는 경우 `for` 반복문을 사용할 수 있으며, 아래 형식을 따른다.\n",
    "```python\n",
    "    for 변수 in 모둠 자료형 값:\n",
    "        명령문1\n",
    "        명령문2\n",
    "        ...\n",
    "        명령문k\n",
    "```\n",
    "모둠 자료형: 리스트, 튜플, 배열(어레이) 등 여러 개의 값을 동시에 다룰 수 있는 자료형을 의미하며, 다음 시간에 보다 자세히 다룬다. \n",
    "이전에 언급하였듯이 문자열 자료형도 모둠 자료형처럼 사용될 수 있다.\n",
    "따라서 여기서는 문자열과 `range()` 함수를 이용하여 `for` 반복문을 사용하는 법을 익힌다."
   ]
  },
  {
   "cell_type": "markdown",
   "metadata": {},
   "source": [
    "### 예제\n",
    "\n",
    "아래 코드는 문자열에 포함된 각각의 문자들을 출력한다."
   ]
  },
  {
   "cell_type": "code",
   "execution_count": 23,
   "metadata": {},
   "outputs": [
    {
     "name": "stdout",
     "output_type": "stream",
     "text": [
      "P\n",
      "y\n",
      "t\n",
      "h\n",
      "o\n",
      "n\n"
     ]
    }
   ],
   "source": [
    "for char in \"Python\":\n",
    "    print(char)"
   ]
  },
  {
   "cell_type": "markdown",
   "metadata": {},
   "source": [
    "### 연습\n",
    "\n",
    "문자열에 있는 소문자 `a`를 대문자 `A`로 변경하여 새로운 문자열을 생성하는 코드를 작성하라.\n",
    "\n",
    "예를 들어, \"aardvarks\"를 이용하여 \"AArdvArks\"를 생성하는 코드를 작성하라."
   ]
  },
  {
   "cell_type": "markdown",
   "metadata": {},
   "source": [
    "견본답안: "
   ]
  },
  {
   "cell_type": "code",
   "execution_count": 24,
   "metadata": {},
   "outputs": [
    {
     "name": "stdout",
     "output_type": "stream",
     "text": [
      "AArdvArks\n"
     ]
    }
   ],
   "source": [
    "a_word = 'aardvarks'\n",
    "new_word = ''\n",
    "for char in a_word:\n",
    "    if char == 'a':\n",
    "        new_word = new_word + 'A'\n",
    "    else:\n",
    "        new_word = new_word + char\n",
    "\n",
    "print(new_word)"
   ]
  },
  {
   "cell_type": "markdown",
   "metadata": {},
   "source": [
    "### 연습\n",
    "\n",
    "아래 문자열\n",
    "\n",
    "' n o r t h w e s t e r n'\n",
    "\n",
    "을 이용하여 아래 문자열을 생성하는 코드를 구현하라:\n",
    "\n",
    "'Northwestern'"
   ]
  },
  {
   "cell_type": "code",
   "execution_count": 25,
   "metadata": {},
   "outputs": [
    {
     "name": "stdout",
     "output_type": "stream",
     "text": [
      "Northwestern\n"
     ]
    }
   ],
   "source": [
    "a_word = ' n o r t h w e s t e r n'\n",
    "\n",
    "temp_word = ''\n",
    "\n",
    "for char in a_word:\n",
    "    if char != ' ':\n",
    "        temp_word = temp_word + char\n",
    "        \n",
    "new_word = temp_word.title()\n",
    "\n",
    "print(new_word)"
   ]
  },
  {
   "cell_type": "markdown",
   "metadata": {},
   "source": [
    "### `range()` 함수와 `for` 반복문"
   ]
  },
  {
   "cell_type": "markdown",
   "metadata": {},
   "source": [
    "`range()` 함수는 일정한 규칙에 따라 나열된 수열을 생성한다. "
   ]
  },
  {
   "cell_type": "code",
   "execution_count": 29,
   "metadata": {},
   "outputs": [
    {
     "name": "stdout",
     "output_type": "stream",
     "text": [
      "range(0, 10)\n"
     ]
    }
   ],
   "source": [
    "range10 = range(10)\n",
    "print(range10)"
   ]
  },
  {
   "cell_type": "markdown",
   "metadata": {},
   "source": [
    "`range()` 함수의 리턴값의 자료형은 `range`이다.\n",
    "`range` 자료형은 리스트와 유사하다.\n",
    "예를 들어 `range(0, 10)`은 리스트 `[0, 1, 2, ..., 9]`와 거의 비슷하다.\n",
    "`range` 자료형에 대해서는 여기서는 이 정도만 기억한다."
   ]
  },
  {
   "cell_type": "code",
   "execution_count": 30,
   "metadata": {},
   "outputs": [
    {
     "data": {
      "text/plain": [
       "range"
      ]
     },
     "execution_count": 30,
     "metadata": {},
     "output_type": "execute_result"
    }
   ],
   "source": [
    "type(range10)"
   ]
  },
  {
   "cell_type": "markdown",
   "metadata": {},
   "source": [
    "`range()` 함수는 인자를 최대 세 개까지 받을 수 있다. 각 인자들의 역할은 슬라이싱에 사용되는 세 개의 인자들의 역할과 동일하다.\n",
    "\n",
    "* `range([start,] stop [, step])`\n",
    "* `start`의 경우 주어지지 않으면 `0`을 기본값으로 갖는다.\n",
    "* `step`의 경우 주어지지 않으면 `1`을 기본값으로 갖는다.\n",
    "\n",
    "**주의:** \n",
    "* 중괄호(`[]`)에 둘러싸인 인자들은 옵션인자들을 의미한다.\n",
    "* 옵션인자들이 언급되지 않으면 기본값이 대신 사용된다."
   ]
  },
  {
   "cell_type": "code",
   "execution_count": 31,
   "metadata": {},
   "outputs": [
    {
     "data": {
      "text/plain": [
       "range(3, 10)"
      ]
     },
     "execution_count": 31,
     "metadata": {},
     "output_type": "execute_result"
    }
   ],
   "source": [
    "range3to10 = range(3, 10)\n",
    "range3to10"
   ]
  },
  {
   "cell_type": "code",
   "execution_count": 32,
   "metadata": {},
   "outputs": [
    {
     "data": {
      "text/plain": [
       "range(3, 10, 2)"
      ]
     },
     "execution_count": 32,
     "metadata": {},
     "output_type": "execute_result"
    }
   ],
   "source": [
    "range2to10stpe2 = range(3, 10, 2)\n",
    "range2to10stpe2"
   ]
  },
  {
   "cell_type": "markdown",
   "metadata": {},
   "source": [
    "`range` 함수는 `for`문에서 유용하게 활용된다. "
   ]
  },
  {
   "cell_type": "code",
   "execution_count": 33,
   "metadata": {},
   "outputs": [
    {
     "name": "stdout",
     "output_type": "stream",
     "text": [
      "0 의 제곱은 0 이다.\n",
      "1 의 제곱은 1 이다.\n",
      "2 의 제곱은 4 이다.\n",
      "3 의 제곱은 9 이다.\n",
      "4 의 제곱은 16 이다.\n",
      "5 의 제곱은 25 이다.\n"
     ]
    }
   ],
   "source": [
    "for i in range(6):\n",
    "    print(i,\"의 제곱은\", i ** 2, \"이다.\")"
   ]
  },
  {
   "cell_type": "code",
   "execution_count": 34,
   "metadata": {},
   "outputs": [
    {
     "name": "stdout",
     "output_type": "stream",
     "text": [
      "0 의 제곱은 0 이다.\n",
      "2 의 제곱은 4 이다.\n",
      "4 의 제곱은 16 이다.\n"
     ]
    }
   ],
   "source": [
    "for i in range(0, 6, 2):\n",
    "    print(i,\"의 제곱은\", i ** 2, \"이다.\")"
   ]
  },
  {
   "cell_type": "markdown",
   "metadata": {},
   "source": [
    "단순한 카운트 역할을 수행하는 용도로 `range`함수를 활용할 수도 있다.\n",
    "즉, 어떤 일을 특정 횟수만큼 반복하고자 할 때 사용한다."
   ]
  },
  {
   "cell_type": "code",
   "execution_count": 35,
   "metadata": {},
   "outputs": [
    {
     "name": "stdout",
     "output_type": "stream",
     "text": [
      "다섯 번 출력합니다.\n",
      "다섯 번 출력합니다.\n",
      "다섯 번 출력합니다.\n",
      "다섯 번 출력합니다.\n",
      "다섯 번 출력합니다.\n"
     ]
    }
   ],
   "source": [
    "for i in range(5):\n",
    "    print(\"다섯 번 출력합니다.\")"
   ]
  },
  {
   "cell_type": "markdown",
   "metadata": {},
   "source": [
    "위 프로그램에서 카운트 변수 `i`가 반복문의 본체에 전혀 사용되지 않았음에 주의하라.\n",
    "이런 경우 다음과 같이 밑줄기호(`_`), 영어로 underscore)를 카운트 변수 대신에 사용할 수 있다.\n",
    "밑줄기호는 변수의 이름이 전혀 중요하지 않을 때 사용하는 관용기호이다."
   ]
  },
  {
   "cell_type": "code",
   "execution_count": 37,
   "metadata": {},
   "outputs": [
    {
     "name": "stdout",
     "output_type": "stream",
     "text": [
      "다섯 번 출력합니다.\n",
      "다섯 번 출력합니다.\n",
      "다섯 번 출력합니다.\n",
      "다섯 번 출력합니다.\n",
      "다섯 번 출력합니다.\n"
     ]
    }
   ],
   "source": [
    "for _ in range(5):\n",
    "    print(\"다섯 번 출력합니다.\")"
   ]
  },
  {
   "cell_type": "markdown",
   "metadata": {},
   "source": [
    "`range()` 함수와 문자열 인덱싱을 활용하면 문자열에 대해 `for`문을 직접 활용하는 것과 동일한 일을 할 수 있다. \n",
    "\n",
    "예를 들어, 문자열의 길이와 `range()` 함수를 다음처럼 활용할 수 있다."
   ]
  },
  {
   "cell_type": "code",
   "execution_count": 44,
   "metadata": {},
   "outputs": [
    {
     "name": "stdout",
     "output_type": "stream",
     "text": [
      "P\n",
      "y\n",
      "t\n",
      "h\n",
      "o\n",
      "n\n"
     ]
    }
   ],
   "source": [
    "lang = 'Python'\n",
    "\n",
    "for i in range(6):\n",
    "    print(lang[i])"
   ]
  },
  {
   "cell_type": "code",
   "execution_count": 45,
   "metadata": {},
   "outputs": [
    {
     "name": "stdout",
     "output_type": "stream",
     "text": [
      "P\n",
      "y\n",
      "t\n",
      "h\n",
      "o\n",
      "n\n"
     ]
    }
   ],
   "source": [
    "for char in lang:\n",
    "    print(char)"
   ]
  },
  {
   "cell_type": "markdown",
   "metadata": {},
   "source": [
    "**주의:** 문자열의 길이가 `range()` 함수에 사용되는 인자보다 작으면 오류가 발생한다. \n",
    "이유는 문자열의 길이보다 긴 인덱스가 사용되기 때문이다. "
   ]
  },
  {
   "cell_type": "code",
   "execution_count": 46,
   "metadata": {},
   "outputs": [
    {
     "name": "stdout",
     "output_type": "stream",
     "text": [
      "P\n",
      "y\n",
      "t\n",
      "h\n",
      "o\n",
      "n\n"
     ]
    },
    {
     "ename": "IndexError",
     "evalue": "string index out of range",
     "output_type": "error",
     "traceback": [
      "\u001b[0;31m---------------------------------------------------------------------------\u001b[0m",
      "\u001b[0;31mIndexError\u001b[0m                                Traceback (most recent call last)",
      "\u001b[0;32m<ipython-input-46-51251a93db5c>\u001b[0m in \u001b[0;36m<module>\u001b[0;34m\u001b[0m\n\u001b[1;32m      1\u001b[0m \u001b[0;32mfor\u001b[0m \u001b[0mi\u001b[0m \u001b[0;32min\u001b[0m \u001b[0mrange\u001b[0m\u001b[0;34m(\u001b[0m\u001b[0;36m7\u001b[0m\u001b[0;34m)\u001b[0m\u001b[0;34m:\u001b[0m\u001b[0;34m\u001b[0m\u001b[0;34m\u001b[0m\u001b[0m\n\u001b[0;32m----> 2\u001b[0;31m     \u001b[0mprint\u001b[0m\u001b[0;34m(\u001b[0m\u001b[0mlang\u001b[0m\u001b[0;34m[\u001b[0m\u001b[0mi\u001b[0m\u001b[0;34m]\u001b[0m\u001b[0;34m)\u001b[0m\u001b[0;34m\u001b[0m\u001b[0;34m\u001b[0m\u001b[0m\n\u001b[0m",
      "\u001b[0;31mIndexError\u001b[0m: string index out of range"
     ]
    }
   ],
   "source": [
    "for i in range(7):\n",
    "    print(lang[i])"
   ]
  },
  {
   "cell_type": "markdown",
   "metadata": {},
   "source": [
    "이런 문제를 방지하기 위해 `len()` 함수를 활용할 수 있다."
   ]
  },
  {
   "cell_type": "code",
   "execution_count": 47,
   "metadata": {},
   "outputs": [
    {
     "name": "stdout",
     "output_type": "stream",
     "text": [
      "P\n",
      "y\n",
      "t\n",
      "h\n",
      "o\n",
      "n\n"
     ]
    }
   ],
   "source": [
    "for i in range(len(lang)):\n",
    "    print(lang[i])"
   ]
  },
  {
   "cell_type": "markdown",
   "metadata": {},
   "source": [
    "### 연습\n",
    "\n",
    "자연수 n이 주어졌을 때, 1부터 n까지의 자연수 중에서 3의 배수이거나 숫자 3을 포함하는 숫자들의 합을 구하는 함수 sum_of_3s() 구현하기:\n",
    "```\n",
    "sum_of_3s(10) = 3 + 6 + 9 = 18\n",
    "sum_of_3s(15) = 3 + 6 + 9 + 12 + 13 + 15 = 58\n",
    "```"
   ]
  },
  {
   "cell_type": "markdown",
   "metadata": {},
   "source": [
    "견본답안:"
   ]
  },
  {
   "cell_type": "code",
   "execution_count": 48,
   "metadata": {},
   "outputs": [],
   "source": [
    "def sum_of_3s(n):\n",
    "    sum = 0\n",
    "    for i in range(1, n+1):\n",
    "        if i % 3 == 0:\n",
    "            sum = sum + i\n",
    "        elif '3' in str(i):\n",
    "            sum = sum + i\n",
    "    return sum"
   ]
  },
  {
   "cell_type": "code",
   "execution_count": 49,
   "metadata": {},
   "outputs": [
    {
     "data": {
      "text/plain": [
       "18"
      ]
     },
     "execution_count": 49,
     "metadata": {},
     "output_type": "execute_result"
    }
   ],
   "source": [
    "sum_of_3s(10)"
   ]
  },
  {
   "cell_type": "code",
   "execution_count": 50,
   "metadata": {},
   "outputs": [
    {
     "data": {
      "text/plain": [
       "58"
      ]
     },
     "execution_count": 50,
     "metadata": {},
     "output_type": "execute_result"
    }
   ],
   "source": [
    "sum_of_3s(15)"
   ]
  },
  {
   "cell_type": "markdown",
   "metadata": {},
   "source": [
    "### 연습\n",
    "\n",
    "두 정수의 최소공배수(lcm)를 리턴하는 함수를 구현하라."
   ]
  },
  {
   "cell_type": "markdown",
   "metadata": {},
   "source": [
    "견본답안:"
   ]
  },
  {
   "cell_type": "code",
   "execution_count": 51,
   "metadata": {},
   "outputs": [],
   "source": [
    "def lcm(a, b):\n",
    "    g = gcd(a, b)\n",
    "    c = a/g\n",
    "    return c*b"
   ]
  },
  {
   "cell_type": "code",
   "execution_count": 52,
   "metadata": {},
   "outputs": [
    {
     "data": {
      "text/plain": [
       "50.0"
      ]
     },
     "execution_count": 52,
     "metadata": {},
     "output_type": "execute_result"
    }
   ],
   "source": [
    "lcm(10, 25)"
   ]
  },
  {
   "cell_type": "code",
   "execution_count": 53,
   "metadata": {},
   "outputs": [
    {
     "data": {
      "text/plain": [
       "1116.0"
      ]
     },
     "execution_count": 53,
     "metadata": {},
     "output_type": "execute_result"
    }
   ],
   "source": [
    "lcm(124, 36)"
   ]
  },
  {
   "cell_type": "markdown",
   "metadata": {},
   "source": [
    "### 연습"
   ]
  },
  {
   "cell_type": "markdown",
   "metadata": {},
   "source": [
    "아래 노래 가사를 활용하는 문제이다."
   ]
  },
  {
   "cell_type": "code",
   "execution_count": 54,
   "metadata": {},
   "outputs": [],
   "source": [
    "song = \"When you are smiling, the whole world smiles with you\""
   ]
  },
  {
   "cell_type": "markdown",
   "metadata": {},
   "source": [
    "(1) 위 문자열에서 `a`가 등장하는 횟수를 구하는 코드를 작성하라."
   ]
  },
  {
   "cell_type": "markdown",
   "metadata": {},
   "source": [
    "견본답안:"
   ]
  },
  {
   "cell_type": "code",
   "execution_count": 55,
   "metadata": {},
   "outputs": [
    {
     "name": "stdout",
     "output_type": "stream",
     "text": [
      "1\n"
     ]
    }
   ],
   "source": [
    "count_a = 0\n",
    "for word in song:\n",
    "    if word == 'a':\n",
    "        count_a += 1\n",
    "\n",
    "print(count_a)"
   ]
  },
  {
   "cell_type": "markdown",
   "metadata": {},
   "source": [
    "(2) 위 문자열에서 대소문자 구별없이 `w`가 등장하는 횟수를 구하는 코드를 작성하라."
   ]
  },
  {
   "cell_type": "markdown",
   "metadata": {},
   "source": [
    "견본답안:"
   ]
  },
  {
   "cell_type": "code",
   "execution_count": 56,
   "metadata": {},
   "outputs": [
    {
     "name": "stdout",
     "output_type": "stream",
     "text": [
      "4\n"
     ]
    }
   ],
   "source": [
    "count_w = 0\n",
    "for word in song.lower():\n",
    "    if word == 'w':\n",
    "        count_w += 1\n",
    "\n",
    "print(count_w)"
   ]
  },
  {
   "cell_type": "markdown",
   "metadata": {},
   "source": [
    "(3) 위 문자열을 이용하여, `whnyrsmlngthwhlwrldsmlswthyu`를 생성하는 코드를 작성하라. \n",
    "    (힌트: 모음(`aeiou`)와 공백 제거)"
   ]
  },
  {
   "cell_type": "markdown",
   "metadata": {},
   "source": [
    "견본답안:"
   ]
  },
  {
   "cell_type": "code",
   "execution_count": 57,
   "metadata": {},
   "outputs": [
    {
     "name": "stdout",
     "output_type": "stream",
     "text": [
      "whnyrsmlngthwhlwrldsmlswthy\n"
     ]
    }
   ],
   "source": [
    "new_song = ''\n",
    "for word in song.lower():\n",
    "    if word not in 'aeiou, ':\n",
    "        new_song += word\n",
    "\n",
    "print(new_song)"
   ]
  }
 ],
 "metadata": {
  "anaconda-cloud": {},
  "kernelspec": {
   "display_name": "Python 3",
   "language": "python",
   "name": "python3"
  },
  "language_info": {
   "codemirror_mode": {
    "name": "ipython",
    "version": 3
   },
   "file_extension": ".py",
   "mimetype": "text/x-python",
   "name": "python",
   "nbconvert_exporter": "python",
   "pygments_lexer": "ipython3",
   "version": "3.6.8"
  }
 },
 "nbformat": 4,
 "nbformat_minor": 1
}
