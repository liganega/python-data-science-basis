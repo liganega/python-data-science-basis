{
 "cells": [
  {
   "cell_type": "markdown",
   "metadata": {},
   "source": [
    "# 데이터과학이란?"
   ]
  },
  {
   "cell_type": "markdown",
   "metadata": {},
   "source": [
    "## 소개"
   ]
  },
  {
   "cell_type": "markdown",
   "metadata": {},
   "source": [
    "데이터 과학이란 *수학과 통계 지식을 활용하여 데이터로부터 특정 정보를 추출하는 과학*을 의미한다.\n",
    "\n",
    "데이터 과학의 필수 요소 \n",
    "* 수학과 통계의 기초지식\n",
    "    * 선형대수학\n",
    "    * 확률과 통계\n",
    "    * 미적분학\n",
    "* 분석 대상 데이터와 관련된 분야에 대한 전문지식\n",
    "    * 데이터 관련된 정보와 분석방법 등에 대한 지식\n",
    "    * 데이터 전처리 및 사전조사에 매우 중요\n",
    "* 컴퓨터 프로그래밍 기초\n",
    "    * 파이썬 프로그래밍 언어 기초\n",
    "    * 컴퓨터 프로그래밍 경험 중요"
   ]
  },
  {
   "cell_type": "markdown",
   "metadata": {},
   "source": [
    "## 목표\n",
    "\n",
    "* 파이썬 프로그래밍언 어를 데이터 분석도구로 활용하는 다양한 지식과 기술 습득\n",
    "* 데이터과학 기초다지기"
   ]
  },
  {
   "cell_type": "markdown",
   "metadata": {},
   "source": [
    "## 내용\n",
    "\n",
    "* 파이썬 프로그래밍 기초\n",
    "* 선형대수 및 통계와 관련된 파이썬 라이브러리 활용"
   ]
  },
  {
   "cell_type": "markdown",
   "metadata": {},
   "source": [
    "## 파이썬 프로그래밍언어\n",
    "\n",
    "1991년 귀도 반 로섬(Guido van Rossum)이라는 프로그래머가 개발한 고급 프로그래밍언어\n",
    "* 고급 프로그래밍언어(high-level programming languages): 사람이 이해하기 쉬운 언어를 사용하는 프로그래밍언어\n",
    "* 저급 프로그래밍언어(low-level programming languages): 사람은 이해하기 어려운 언어를 사용하는 프로그래밍언어"
   ]
  },
  {
   "cell_type": "markdown",
   "metadata": {},
   "source": [
    "### 특징\n",
    "\n",
    "* C, Java 등과 같은 범용 프로그래밍 언어\n",
    "    * 범용 프로그래밍 언어: 모든 영역에서 활용될 수 있는 프로그래밍 언어\n",
    "    * 도메인 특화 프로그래밍 언어: 특정 영역에서만 사용하는 프로그래밍 언어\n",
    "* 객체지향언어\n",
    "    * 클래스와 객체를 지원하는 프로그래밍 언어\n",
    "    * C언어는 객체지향언어 아님.\n",
    "* 인터프리터 언어\n",
    "    * 작성된 프로그램을 실행하는 방식 중 하나\n",
    "    * 스크립트 언어라고도 불림\n",
    "    * C, Java 등은 컴파일러 언어라 불림\n",
    "* 동적타이핑 지원\n",
    "    * 언어에서 지원하는 객체(objects)의 유형을 확인하는 방식 중 하나\n",
    "    * 프로그램이 실행될 때 객체의 유형을 파악하는 방식\n",
    "    * 언어마다 다양한 방식 지원\n",
    "    * C, Java: 기본적으로 정적타이핑 사용, 즉, 실행 전에 객체들의 유형을 미리 확인\n",
    "* 거의 모든 운영체제에서 작동\n",
    "    * 윈도우, 맥, 리눅스, 라즈베리파이 등등"
   ]
  },
  {
   "cell_type": "markdown",
   "metadata": {},
   "source": [
    "### 범용 프로그래밍 언어로써의 인기도\n",
    "\n",
    "인기가 계속 오르고 있음.\n",
    "\n",
    "<p>\n",
    "<table cellspacing=\"20\">\n",
    "<tr>\n",
    "<td>\n",
    "<img src=\"images/tiobe-index.png\">\n",
    "</td>\n",
    "</tr>\n",
    "</table>\n",
    "</p>\n",
    "\n",
    "그림출처: [TIOBE Index](https://www.tiobe.com/tiobe-index/)"
   ]
  },
  {
   "cell_type": "markdown",
   "metadata": {},
   "source": [
    "### 데이터 과학에서의 인기도\n",
    "\n",
    "데이터 과학 관련 전문 사이트인 KDnuggets에서 수행한 데이터 과학 분야에서의 소프트웨어 인기도 조사에서 가장 빠르게 사용자수가 증가하는 언어로 선정됨.\n",
    "\n",
    "<p>\n",
    "<table cellspacing=\"20\">\n",
    "<tr>\n",
    "<td>\n",
    "<img src=\"images/KDnuggets-software-poll.png\">\n",
    "</td>\n",
    "</tr>\n",
    "</table>\n",
    "</p>\n",
    "\n",
    "그림출처: [KDnuggets](https://www.kdnuggets.com/2019/05/poll-top-data-science-machine-learning-platforms.html)"
   ]
  },
  {
   "cell_type": "markdown",
   "metadata": {},
   "source": [
    "### 데이터 과학 분야에서의 인기 이유\n",
    "\n",
    "* 데이터 적재, 시각화, 통계, 자연어 처리, 이미지 처리 등에 필요한 다양한 라이브러리 제공\n",
    "* 머신러닝, 딥러닝 등을 위한 최신 라이브러리의 지속적인 지원\n",
    "    * 텐서플로(Tensorflow, https://www.tensorflow.org/) \n",
    "    * 케라스(Keras, https://keras.io)\n",
    "    * 사이킷런(scikit-learn, https://scikit-learn.org) 등등\n",
    "* 아나콘다(Anaconda) 등 데이터 과학에 필수적인 라이브러리와 통합 개발환경을 제공하는 다양한 패키지 존재\n",
    "* 범용 프로그래밍의 장점과 더불어 R, 매트랩, SQL, 엑셀 등 특정 분야를 위한 언어들의 편리함도 함께 지원\n",
    "    * 범용 프로그래밍 언어로써 복잡한 그래픽 사용자 인터페이스(GUI), 웹 서비스 등의 개발에도 적합함."
   ]
  },
  {
   "cell_type": "markdown",
   "metadata": {},
   "source": [
    "## 강의노트 저장 사이트\n",
    "\n",
    "* 깃허브(Github.com) 사이트: https://github.com/liganega/Gongsu-DataSci\n",
    "* jupyter notebook 파일은 ipynb 폴더에 있음.\n",
    "* 강의노트를 온라인 상에서 직접 읽고 출력할 수 있음. (출력은 Google Chrome 이용 추천)\n",
    "\n",
    "주의: 강의를 위해서는 깃허브에 대해 자세히 알 필요는 없다. \n",
    "다만, 알고 있다면 개인적으로 유용하게 활용할 수 있는 유용한 무료 웹서버이다.\n",
    "자세한 사용법 설명은 아래 사이트를 참조할 수 있다.\n",
    "\n",
    "* 생활코딩 Github 설명: https://opentutorials.org/course/2708/15465"
   ]
  }
 ],
 "metadata": {
  "kernelspec": {
   "display_name": "Python 3",
   "language": "python",
   "name": "python3"
  },
  "language_info": {
   "codemirror_mode": {
    "name": "ipython",
    "version": 3
   },
   "file_extension": ".py",
   "mimetype": "text/x-python",
   "name": "python",
   "nbconvert_exporter": "python",
   "pygments_lexer": "ipython3",
   "version": "3.6.8"
  }
 },
 "nbformat": 4,
 "nbformat_minor": 1
}
